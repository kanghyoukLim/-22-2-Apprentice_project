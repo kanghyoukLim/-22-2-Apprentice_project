{
 "cells": [
  {
   "cell_type": "code",
   "execution_count": 149,
   "id": "3fcd542a-68bc-474d-bb36-c9365dbada6e",
   "metadata": {},
   "outputs": [],
   "source": [
    "import numpy as np\n",
    "import pandas as pd\n",
    "import matplotlib.pyplot as plt\n",
    "import seaborn as sns\n",
    "from sklearn.linear_model import LinearRegression \n",
    "from sklearn.metrics import mean_squared_error"
   ]
  },
  {
   "cell_type": "code",
   "execution_count": 150,
   "id": "7e76b4a4-35dc-469a-9e63-e478e2fdfcb9",
   "metadata": {},
   "outputs": [
    {
     "data": {
      "text/html": [
       "<div>\n",
       "<style scoped>\n",
       "    .dataframe tbody tr th:only-of-type {\n",
       "        vertical-align: middle;\n",
       "    }\n",
       "\n",
       "    .dataframe tbody tr th {\n",
       "        vertical-align: top;\n",
       "    }\n",
       "\n",
       "    .dataframe thead th {\n",
       "        text-align: right;\n",
       "    }\n",
       "</style>\n",
       "<table border=\"1\" class=\"dataframe\">\n",
       "  <thead>\n",
       "    <tr style=\"text-align: right;\">\n",
       "      <th></th>\n",
       "      <th>Refine_D</th>\n",
       "      <th>Mix_R</th>\n",
       "      <th>Grammage</th>\n",
       "      <th>Tensile_MD</th>\n",
       "      <th>Tensile_CD</th>\n",
       "      <th>Tear_MD</th>\n",
       "      <th>Tear_CD</th>\n",
       "    </tr>\n",
       "  </thead>\n",
       "  <tbody>\n",
       "    <tr>\n",
       "      <th>0</th>\n",
       "      <td>38</td>\n",
       "      <td>20.0</td>\n",
       "      <td>69.0</td>\n",
       "      <td>41</td>\n",
       "      <td>20</td>\n",
       "      <td>513</td>\n",
       "      <td>587</td>\n",
       "    </tr>\n",
       "    <tr>\n",
       "      <th>1</th>\n",
       "      <td>38</td>\n",
       "      <td>20.0</td>\n",
       "      <td>68.8</td>\n",
       "      <td>38</td>\n",
       "      <td>20</td>\n",
       "      <td>467</td>\n",
       "      <td>513</td>\n",
       "    </tr>\n",
       "    <tr>\n",
       "      <th>2</th>\n",
       "      <td>38</td>\n",
       "      <td>20.0</td>\n",
       "      <td>68.1</td>\n",
       "      <td>37</td>\n",
       "      <td>18</td>\n",
       "      <td>467</td>\n",
       "      <td>540</td>\n",
       "    </tr>\n",
       "    <tr>\n",
       "      <th>3</th>\n",
       "      <td>38</td>\n",
       "      <td>20.0</td>\n",
       "      <td>68.7</td>\n",
       "      <td>37</td>\n",
       "      <td>19</td>\n",
       "      <td>500</td>\n",
       "      <td>580</td>\n",
       "    </tr>\n",
       "    <tr>\n",
       "      <th>4</th>\n",
       "      <td>38</td>\n",
       "      <td>20.0</td>\n",
       "      <td>68.2</td>\n",
       "      <td>38</td>\n",
       "      <td>19</td>\n",
       "      <td>487</td>\n",
       "      <td>567</td>\n",
       "    </tr>\n",
       "    <tr>\n",
       "      <th>...</th>\n",
       "      <td>...</td>\n",
       "      <td>...</td>\n",
       "      <td>...</td>\n",
       "      <td>...</td>\n",
       "      <td>...</td>\n",
       "      <td>...</td>\n",
       "      <td>...</td>\n",
       "    </tr>\n",
       "    <tr>\n",
       "      <th>309</th>\n",
       "      <td>35</td>\n",
       "      <td>21.3</td>\n",
       "      <td>79.6</td>\n",
       "      <td>41</td>\n",
       "      <td>21</td>\n",
       "      <td>520</td>\n",
       "      <td>613</td>\n",
       "    </tr>\n",
       "    <tr>\n",
       "      <th>310</th>\n",
       "      <td>35</td>\n",
       "      <td>21.3</td>\n",
       "      <td>74.2</td>\n",
       "      <td>38</td>\n",
       "      <td>19</td>\n",
       "      <td>453</td>\n",
       "      <td>507</td>\n",
       "    </tr>\n",
       "    <tr>\n",
       "      <th>311</th>\n",
       "      <td>35</td>\n",
       "      <td>21.3</td>\n",
       "      <td>73.7</td>\n",
       "      <td>38</td>\n",
       "      <td>19</td>\n",
       "      <td>453</td>\n",
       "      <td>500</td>\n",
       "    </tr>\n",
       "    <tr>\n",
       "      <th>312</th>\n",
       "      <td>35</td>\n",
       "      <td>21.3</td>\n",
       "      <td>73.5</td>\n",
       "      <td>39</td>\n",
       "      <td>20</td>\n",
       "      <td>460</td>\n",
       "      <td>547</td>\n",
       "    </tr>\n",
       "    <tr>\n",
       "      <th>313</th>\n",
       "      <td>35</td>\n",
       "      <td>21.3</td>\n",
       "      <td>73.5</td>\n",
       "      <td>40</td>\n",
       "      <td>20</td>\n",
       "      <td>487</td>\n",
       "      <td>540</td>\n",
       "    </tr>\n",
       "  </tbody>\n",
       "</table>\n",
       "<p>314 rows × 7 columns</p>\n",
       "</div>"
      ],
      "text/plain": [
       "     Refine_D  Mix_R  Grammage  Tensile_MD  Tensile_CD  Tear_MD  Tear_CD\n",
       "0          38   20.0      69.0          41          20      513      587\n",
       "1          38   20.0      68.8          38          20      467      513\n",
       "2          38   20.0      68.1          37          18      467      540\n",
       "3          38   20.0      68.7          37          19      500      580\n",
       "4          38   20.0      68.2          38          19      487      567\n",
       "..        ...    ...       ...         ...         ...      ...      ...\n",
       "309        35   21.3      79.6          41          21      520      613\n",
       "310        35   21.3      74.2          38          19      453      507\n",
       "311        35   21.3      73.7          38          19      453      500\n",
       "312        35   21.3      73.5          39          20      460      547\n",
       "313        35   21.3      73.5          40          20      487      540\n",
       "\n",
       "[314 rows x 7 columns]"
      ]
     },
     "execution_count": 150,
     "metadata": {},
     "output_type": "execute_result"
    }
   ],
   "source": [
    "paperdf = pd.read_excel(\"my_data.xlsx\", usecols = [3,5,7,9,10,11,12], header=1)\n",
    "paperdf"
   ]
  },
  {
   "cell_type": "code",
   "execution_count": 151,
   "id": "6dd58611-c700-4740-a9af-a3b91af94a2c",
   "metadata": {},
   "outputs": [
    {
     "data": {
      "text/plain": [
       "<AxesSubplot:ylabel='Frequency'>"
      ]
     },
     "execution_count": 151,
     "metadata": {},
     "output_type": "execute_result"
    },
    {
     "data": {
      "image/png": "[encoded data removed]",
      "text/plain": [
       "<Figure size 432x288 with 1 Axes>"
      ]
     },
     "metadata": {
      "needs_background": "light"
     },
     "output_type": "display_data"
    }
   ],
   "source": [
    "paperdf.plot(kind='hist',  y='Tensile_MD' )"
   ]
  },
  {
   "cell_type": "code",
   "execution_count": 152,
   "id": "e39d379f-a02a-419f-89ef-42b1c3394043",
   "metadata": {},
   "outputs": [
    {
     "data": {
      "text/plain": [
       "<AxesSubplot:ylabel='Frequency'>"
      ]
     },
     "execution_count": 152,
     "metadata": {},
     "output_type": "execute_result"
    },
    {
     "data": {
      "image/png": "[encoded data removed]",
      "text/plain": [
       "<Figure size 432x288 with 1 Axes>"
      ]
     },
     "metadata": {
      "needs_background": "light"
     },
     "output_type": "display_data"
    }
   ],
   "source": [
    "paperdf.plot(kind='hist',  y='Tensile_CD' )"
   ]
  },
  {
   "cell_type": "code",
   "execution_count": 153,
   "id": "0800bd6e-228f-4dc2-ae61-f3424bc58483",
   "metadata": {},
   "outputs": [
    {
     "data": {
      "text/plain": [
       "<AxesSubplot:ylabel='Frequency'>"
      ]
     },
     "execution_count": 153,
     "metadata": {},
     "output_type": "execute_result"
    },
    {
     "data": {
      "image/png": "[encoded data removed]",
      "text/plain": [
       "<Figure size 432x288 with 1 Axes>"
      ]
     },
     "metadata": {
      "needs_background": "light"
     },
     "output_type": "display_data"
    }
   ],
   "source": [
    "paperdf.plot(kind='hist',  y='Tear_MD' )"
   ]
  },
  {
   "cell_type": "code",
   "execution_count": 154,
   "id": "cfe679da-671b-468c-99a8-29f622ba7246",
   "metadata": {},
   "outputs": [
    {
     "data": {
      "text/plain": [
       "<AxesSubplot:ylabel='Frequency'>"
      ]
     },
     "execution_count": 154,
     "metadata": {},
     "output_type": "execute_result"
    },
    {
     "data": {
      "image/png": "[encoded data removed]",
      "text/plain": [
       "<Figure size 432x288 with 1 Axes>"
      ]
     },
     "metadata": {
      "needs_background": "light"
     },
     "output_type": "display_data"
    }
   ],
   "source": [
    "paperdf.plot(kind='hist',  y='Tear_CD' )"
   ]
  },
  {
   "cell_type": "code",
   "execution_count": 155,
   "id": "a0a8f2e6-8aa2-4767-be34-024ba0341cc0",
   "metadata": {},
   "outputs": [
    {
     "data": {
      "text/html": [
       "<div>\n",
       "<style scoped>\n",
       "    .dataframe tbody tr th:only-of-type {\n",
       "        vertical-align: middle;\n",
       "    }\n",
       "\n",
       "    .dataframe tbody tr th {\n",
       "        vertical-align: top;\n",
       "    }\n",
       "\n",
       "    .dataframe thead th {\n",
       "        text-align: right;\n",
       "    }\n",
       "</style>\n",
       "<table border=\"1\" class=\"dataframe\">\n",
       "  <thead>\n",
       "    <tr style=\"text-align: right;\">\n",
       "      <th></th>\n",
       "      <th>Refine_D</th>\n",
       "      <th>Mix_R</th>\n",
       "      <th>Grammage</th>\n",
       "      <th>Tensile_MD</th>\n",
       "      <th>Tensile_CD</th>\n",
       "      <th>Tear_MD</th>\n",
       "      <th>Tear_CD</th>\n",
       "    </tr>\n",
       "  </thead>\n",
       "  <tbody>\n",
       "    <tr>\n",
       "      <th>count</th>\n",
       "      <td>314.00</td>\n",
       "      <td>314.00</td>\n",
       "      <td>314.00</td>\n",
       "      <td>314.00</td>\n",
       "      <td>314.00</td>\n",
       "      <td>314.00</td>\n",
       "      <td>314.00</td>\n",
       "    </tr>\n",
       "    <tr>\n",
       "      <th>mean</th>\n",
       "      <td>35.98</td>\n",
       "      <td>47.89</td>\n",
       "      <td>76.20</td>\n",
       "      <td>46.95</td>\n",
       "      <td>22.82</td>\n",
       "      <td>600.36</td>\n",
       "      <td>679.11</td>\n",
       "    </tr>\n",
       "    <tr>\n",
       "      <th>std</th>\n",
       "      <td>2.03</td>\n",
       "      <td>22.47</td>\n",
       "      <td>5.51</td>\n",
       "      <td>5.82</td>\n",
       "      <td>2.90</td>\n",
       "      <td>80.47</td>\n",
       "      <td>89.51</td>\n",
       "    </tr>\n",
       "    <tr>\n",
       "      <th>min</th>\n",
       "      <td>30.00</td>\n",
       "      <td>0.00</td>\n",
       "      <td>67.40</td>\n",
       "      <td>36.00</td>\n",
       "      <td>18.00</td>\n",
       "      <td>433.00</td>\n",
       "      <td>480.00</td>\n",
       "    </tr>\n",
       "    <tr>\n",
       "      <th>25%</th>\n",
       "      <td>34.00</td>\n",
       "      <td>40.02</td>\n",
       "      <td>73.22</td>\n",
       "      <td>44.00</td>\n",
       "      <td>21.00</td>\n",
       "      <td>543.25</td>\n",
       "      <td>624.00</td>\n",
       "    </tr>\n",
       "    <tr>\n",
       "      <th>50%</th>\n",
       "      <td>37.00</td>\n",
       "      <td>54.90</td>\n",
       "      <td>77.90</td>\n",
       "      <td>46.00</td>\n",
       "      <td>23.00</td>\n",
       "      <td>595.00</td>\n",
       "      <td>680.00</td>\n",
       "    </tr>\n",
       "    <tr>\n",
       "      <th>75%</th>\n",
       "      <td>37.00</td>\n",
       "      <td>56.40</td>\n",
       "      <td>79.00</td>\n",
       "      <td>49.00</td>\n",
       "      <td>24.00</td>\n",
       "      <td>647.00</td>\n",
       "      <td>720.00</td>\n",
       "    </tr>\n",
       "    <tr>\n",
       "      <th>max</th>\n",
       "      <td>40.00</td>\n",
       "      <td>100.00</td>\n",
       "      <td>95.50</td>\n",
       "      <td>68.00</td>\n",
       "      <td>34.00</td>\n",
       "      <td>896.00</td>\n",
       "      <td>1000.00</td>\n",
       "    </tr>\n",
       "  </tbody>\n",
       "</table>\n",
       "</div>"
      ],
      "text/plain": [
       "       Refine_D   Mix_R  Grammage  Tensile_MD  Tensile_CD  Tear_MD  Tear_CD\n",
       "count    314.00  314.00    314.00      314.00      314.00   314.00   314.00\n",
       "mean      35.98   47.89     76.20       46.95       22.82   600.36   679.11\n",
       "std        2.03   22.47      5.51        5.82        2.90    80.47    89.51\n",
       "min       30.00    0.00     67.40       36.00       18.00   433.00   480.00\n",
       "25%       34.00   40.02     73.22       44.00       21.00   543.25   624.00\n",
       "50%       37.00   54.90     77.90       46.00       23.00   595.00   680.00\n",
       "75%       37.00   56.40     79.00       49.00       24.00   647.00   720.00\n",
       "max       40.00  100.00     95.50       68.00       34.00   896.00  1000.00"
      ]
     },
     "execution_count": 155,
     "metadata": {},
     "output_type": "execute_result"
    }
   ],
   "source": [
    "# Describe aggregation\n",
    "round(paperdf.describe(),2)"
   ]
  },
  {
   "cell_type": "code",
   "execution_count": 156,
   "id": "95c78460-7a42-4cf2-b58c-30c9ab45b8ab",
   "metadata": {},
   "outputs": [
    {
     "name": "stdout",
     "output_type": "stream",
     "text": [
      "correlation between x1 and x2:  -0.2749084175695609\n"
     ]
    }
   ],
   "source": [
    "# Correlation analysis\n",
    "correlation = paperdf['Refine_D'].corr(paperdf['Mix_R'])\n",
    "print('correlation between x1 and x2: ', correlation)"
   ]
  },
  {
   "cell_type": "code",
   "execution_count": 157,
   "id": "368b3228-1a16-4599-933e-5d1b79c6cb22",
   "metadata": {},
   "outputs": [
    {
     "name": "stdout",
     "output_type": "stream",
     "text": [
      "correlation between x1 and x2:  -0.020914351729623852\n"
     ]
    }
   ],
   "source": [
    "# Correlation analysis\n",
    "correlation = paperdf['Refine_D'].corr(paperdf['Grammage'])\n",
    "print('correlation between x1 and x2: ', correlation)"
   ]
  },
  {
   "cell_type": "code",
   "execution_count": 158,
   "id": "b739f7a1-5935-4fe5-a010-d471a9dbe003",
   "metadata": {},
   "outputs": [
    {
     "name": "stdout",
     "output_type": "stream",
     "text": [
      "correlation between x1 and x2:  0.30966383374362916\n"
     ]
    }
   ],
   "source": [
    "# Correlation analysis\n",
    "correlation = paperdf['Mix_R'].corr(paperdf['Grammage'])\n",
    "print('correlation between x1 and x2: ', correlation)"
   ]
  },
  {
   "cell_type": "code",
   "execution_count": 159,
   "id": "9a5b003c-aed5-4130-9404-d205885ae818",
   "metadata": {},
   "outputs": [
    {
     "data": {
      "image/png": "[encoded data removed]",
      "text/plain": [
       "<Figure size 1080x720 with 3 Axes>"
      ]
     },
     "metadata": {
      "needs_background": "light"
     },
     "output_type": "display_data"
    }
   ],
   "source": [
    "# Pairwise relationships of the Papermaking data\n",
    "import matplotlib.pyplot as plt\n",
    "\n",
    "fig, ax = plt.subplots(1, 3, figsize = (15, 10))\n",
    "ax[0].scatter(paperdf['Refine_D'],paperdf['Mix_R'],label = 'Mix_R pct vs. Refine_D')\n",
    "ax[0].legend()\n",
    "ax[1].scatter(paperdf['Refine_D'],paperdf['Grammage'],label = 'Grammage pct vs. Refine_D')\n",
    "ax[1].legend()\n",
    "ax[2].scatter(paperdf['Mix_R'],paperdf['Grammage'],label = 'Grammage pct vs. Mix_R')\n",
    "ax[2].legend()\n",
    "plt.show()"
   ]
  },
  {
   "cell_type": "code",
   "execution_count": 160,
   "id": "938eb751-27bc-49b2-a06b-1a46bce80158",
   "metadata": {},
   "outputs": [
    {
     "name": "stdout",
     "output_type": "stream",
     "text": [
      "correlation between x1 and x2:  -0.13668903778154495\n"
     ]
    }
   ],
   "source": [
    "# Correlation analysis\n",
    "correlation = paperdf['Refine_D'].corr(paperdf['Tensile_MD'])\n",
    "print('correlation between x1 and x2: ', correlation)"
   ]
  },
  {
   "cell_type": "code",
   "execution_count": 161,
   "id": "ecbe6299-075e-455b-8ca8-e0be018fb64d",
   "metadata": {},
   "outputs": [
    {
     "name": "stdout",
     "output_type": "stream",
     "text": [
      "correlation between x1 and x2:  0.7587851569637327\n"
     ]
    }
   ],
   "source": [
    "# Correlation analysis\n",
    "correlation = paperdf['Mix_R'].corr(paperdf['Tensile_MD'])\n",
    "print('correlation between x1 and x2: ', correlation)"
   ]
  },
  {
   "cell_type": "code",
   "execution_count": 162,
   "id": "9849ebf1-8cba-4d01-b51f-b7b7066bf419",
   "metadata": {},
   "outputs": [
    {
     "name": "stdout",
     "output_type": "stream",
     "text": [
      "correlation between x1 and x2:  0.7295822962206061\n"
     ]
    }
   ],
   "source": [
    "# Correlation analysis\n",
    "correlation = paperdf['Grammage'].corr(paperdf['Tensile_MD'])\n",
    "print('correlation between x1 and x2: ', correlation)"
   ]
  },
  {
   "cell_type": "code",
   "execution_count": 163,
   "id": "020ef2f3-5083-4b15-805c-85aa4de4d0af",
   "metadata": {},
   "outputs": [
    {
     "data": {
      "image/png": "[encoded data removed]",
      "text/plain": [
       "<Figure size 1080x360 with 3 Axes>"
      ]
     },
     "metadata": {
      "needs_background": "light"
     },
     "output_type": "display_data"
    }
   ],
   "source": [
    "# Pairwise relationships of the paperdf data\n",
    "import matplotlib.pyplot as plt\n",
    "\n",
    "fig, ax = plt.subplots(1, 3, figsize = (15, 5))\n",
    "ax[0].scatter(paperdf['Refine_D'],paperdf['Tensile_MD'],label = 'Tensile_MD vs. Refining Degree')\n",
    "ax[0].legend()\n",
    "ax[1].scatter(paperdf['Mix_R'],paperdf['Tensile_MD'],label = 'Tensile_MD vs. MixRatio')\n",
    "ax[1].legend()\n",
    "ax[2].scatter(paperdf['Grammage'],paperdf['Tensile_MD'],label = 'Tensile_MD vs. Grammage')\n",
    "ax[2].legend()\n",
    "plt.show()"
   ]
  },
  {
   "cell_type": "code",
   "execution_count": 164,
   "id": "3e44b58b-7b93-4356-a3bf-1183d9be7d58",
   "metadata": {},
   "outputs": [
    {
     "data": {
      "text/plain": [
       "<seaborn.axisgrid.PairGrid at 0x239678085b0>"
      ]
     },
     "execution_count": 164,
     "metadata": {},
     "output_type": "execute_result"
    },
    {
     "data": {
      "text/plain": [
       "<Figure size 864x864 with 0 Axes>"
      ]
     },
     "metadata": {},
     "output_type": "display_data"
    },
    {
     "data": {
      "image/png": "[encoded data removed]",
      "text/plain": [
       "<Figure size 1143.88x1080 with 42 Axes>"
      ]
     },
     "metadata": {
      "needs_background": "light"
     },
     "output_type": "display_data"
    }
   ],
   "source": [
    "# Pairplot\n",
    "plt.figure(figsize=(12,12))\n",
    "sns.pairplot(paperdf, hue='Grammage')"
   ]
  },
  {
   "cell_type": "code",
   "execution_count": 165,
   "id": "443cac89-5b79-490f-b0ce-439c46447f8d",
   "metadata": {},
   "outputs": [
    {
     "data": {
      "text/html": [
       "<div>\n",
       "<style scoped>\n",
       "    .dataframe tbody tr th:only-of-type {\n",
       "        vertical-align: middle;\n",
       "    }\n",
       "\n",
       "    .dataframe tbody tr th {\n",
       "        vertical-align: top;\n",
       "    }\n",
       "\n",
       "    .dataframe thead th {\n",
       "        text-align: right;\n",
       "    }\n",
       "</style>\n",
       "<table border=\"1\" class=\"dataframe\">\n",
       "  <thead>\n",
       "    <tr style=\"text-align: right;\">\n",
       "      <th></th>\n",
       "      <th>Refine_D</th>\n",
       "      <th>Mix_R</th>\n",
       "      <th>Grammage</th>\n",
       "      <th>Tensile_MD</th>\n",
       "      <th>Tensile_CD</th>\n",
       "      <th>Tear_MD</th>\n",
       "      <th>Tear_CD</th>\n",
       "    </tr>\n",
       "  </thead>\n",
       "  <tbody>\n",
       "    <tr>\n",
       "      <th>Refine_D</th>\n",
       "      <td>1.000000</td>\n",
       "      <td>-0.274908</td>\n",
       "      <td>-0.020914</td>\n",
       "      <td>-0.136689</td>\n",
       "      <td>-0.202445</td>\n",
       "      <td>-0.276929</td>\n",
       "      <td>-0.193980</td>\n",
       "    </tr>\n",
       "    <tr>\n",
       "      <th>Mix_R</th>\n",
       "      <td>-0.274908</td>\n",
       "      <td>1.000000</td>\n",
       "      <td>0.309664</td>\n",
       "      <td>0.758785</td>\n",
       "      <td>0.665872</td>\n",
       "      <td>0.656722</td>\n",
       "      <td>0.687298</td>\n",
       "    </tr>\n",
       "    <tr>\n",
       "      <th>Grammage</th>\n",
       "      <td>-0.020914</td>\n",
       "      <td>0.309664</td>\n",
       "      <td>1.000000</td>\n",
       "      <td>0.729582</td>\n",
       "      <td>0.805759</td>\n",
       "      <td>0.733499</td>\n",
       "      <td>0.746778</td>\n",
       "    </tr>\n",
       "    <tr>\n",
       "      <th>Tensile_MD</th>\n",
       "      <td>-0.136689</td>\n",
       "      <td>0.758785</td>\n",
       "      <td>0.729582</td>\n",
       "      <td>1.000000</td>\n",
       "      <td>0.939546</td>\n",
       "      <td>0.860209</td>\n",
       "      <td>0.883089</td>\n",
       "    </tr>\n",
       "    <tr>\n",
       "      <th>Tensile_CD</th>\n",
       "      <td>-0.202445</td>\n",
       "      <td>0.665872</td>\n",
       "      <td>0.805759</td>\n",
       "      <td>0.939546</td>\n",
       "      <td>1.000000</td>\n",
       "      <td>0.869738</td>\n",
       "      <td>0.868305</td>\n",
       "    </tr>\n",
       "    <tr>\n",
       "      <th>Tear_MD</th>\n",
       "      <td>-0.276929</td>\n",
       "      <td>0.656722</td>\n",
       "      <td>0.733499</td>\n",
       "      <td>0.860209</td>\n",
       "      <td>0.869738</td>\n",
       "      <td>1.000000</td>\n",
       "      <td>0.951693</td>\n",
       "    </tr>\n",
       "    <tr>\n",
       "      <th>Tear_CD</th>\n",
       "      <td>-0.193980</td>\n",
       "      <td>0.687298</td>\n",
       "      <td>0.746778</td>\n",
       "      <td>0.883089</td>\n",
       "      <td>0.868305</td>\n",
       "      <td>0.951693</td>\n",
       "      <td>1.000000</td>\n",
       "    </tr>\n",
       "  </tbody>\n",
       "</table>\n",
       "</div>"
      ],
      "text/plain": [
       "            Refine_D     Mix_R  Grammage  Tensile_MD  Tensile_CD   Tear_MD  \\\n",
       "Refine_D    1.000000 -0.274908 -0.020914   -0.136689   -0.202445 -0.276929   \n",
       "Mix_R      -0.274908  1.000000  0.309664    0.758785    0.665872  0.656722   \n",
       "Grammage   -0.020914  0.309664  1.000000    0.729582    0.805759  0.733499   \n",
       "Tensile_MD -0.136689  0.758785  0.729582    1.000000    0.939546  0.860209   \n",
       "Tensile_CD -0.202445  0.665872  0.805759    0.939546    1.000000  0.869738   \n",
       "Tear_MD    -0.276929  0.656722  0.733499    0.860209    0.869738  1.000000   \n",
       "Tear_CD    -0.193980  0.687298  0.746778    0.883089    0.868305  0.951693   \n",
       "\n",
       "             Tear_CD  \n",
       "Refine_D   -0.193980  \n",
       "Mix_R       0.687298  \n",
       "Grammage    0.746778  \n",
       "Tensile_MD  0.883089  \n",
       "Tensile_CD  0.868305  \n",
       "Tear_MD     0.951693  \n",
       "Tear_CD     1.000000  "
      ]
     },
     "execution_count": 165,
     "metadata": {},
     "output_type": "execute_result"
    }
   ],
   "source": [
    "corr = paperdf.corr()\n",
    "corr"
   ]
  },
  {
   "cell_type": "code",
   "execution_count": 166,
   "id": "107da59b-d21d-4dfc-be11-3a70d9b5dc22",
   "metadata": {},
   "outputs": [
    {
     "data": {
      "image/png": "[encoded data removed]",
      "text/plain": [
       "<Figure size 576x576 with 2 Axes>"
      ]
     },
     "metadata": {
      "needs_background": "light"
     },
     "output_type": "display_data"
    }
   ],
   "source": [
    "plt.figure(figsize = (8,8))\n",
    "sns.heatmap(corr, square = True);"
   ]
  },
  {
   "cell_type": "code",
   "execution_count": 167,
   "id": "b1ff9ce9-4813-490d-825c-9721ccbd5c0d",
   "metadata": {},
   "outputs": [],
   "source": [
    "# Use sklearn.linear_model \n",
    "from sklearn.linear_model import LinearRegression \n",
    " \n",
    "data_X = paperdf.loc[:, ['Refine_D', 'Mix_R', 'Grammage']]\n",
    "data_y = paperdf['Tensile_MD']"
   ]
  },
  {
   "cell_type": "code",
   "execution_count": 168,
   "id": "91a8a0fd-7300-4b27-bf53-e73b3e4612fe",
   "metadata": {},
   "outputs": [],
   "source": [
    "sk_lin_model = LinearRegression()\n",
    "paperdf_model1 = sk_lin_model.fit(data_X, data_y)"
   ]
  },
  {
   "cell_type": "code",
   "execution_count": 169,
   "id": "55879dd6-3fc7-4847-b6f3-989493158e01",
   "metadata": {},
   "outputs": [
    {
     "data": {
      "text/plain": [
       "0.8478156528583906"
      ]
     },
     "execution_count": 169,
     "metadata": {},
     "output_type": "execute_result"
    }
   ],
   "source": [
    "r2_score = paperdf_model1.score(data_X, data_y)\n",
    "r2_score"
   ]
  },
  {
   "cell_type": "code",
   "execution_count": 170,
   "id": "8c4a483c-1ca1-402e-ad59-1118c9beb55e",
   "metadata": {},
   "outputs": [
    {
     "name": "stdout",
     "output_type": "stream",
     "text": [
      "R2 score is  0.8478156528583906\n",
      "intercept (b0)  -8.454291174318605\n",
      "  Predictor coefficient Name  coefficient Value\n",
      "0  Refine_D               b1           0.114762\n",
      "1     Mix_R               b2           0.155780\n",
      "2  Grammage               b3           0.574965\n"
     ]
    }
   ],
   "source": [
    "print('R2 score is ', r2_score)\n",
    "print('intercept (b0) ', paperdf_model1.intercept_)\n",
    "coef_names = ['b1','b2','b3']\n",
    "print(pd.DataFrame({'Predictor': data_X.columns,\n",
    "                    'coefficient Name':coef_names, \n",
    "                    'coefficient Value': paperdf_model1.coef_}))"
   ]
  },
  {
   "cell_type": "code",
   "execution_count": 171,
   "id": "885e8a6b-ff38-4a5d-86b3-f2a706ff5178",
   "metadata": {},
   "outputs": [
    {
     "name": "stdout",
     "output_type": "stream",
     "text": [
      "                            OLS Regression Results                            \n",
      "==============================================================================\n",
      "Dep. Variable:             Tensile_MD   R-squared:                       0.848\n",
      "Model:                            OLS   Adj. R-squared:                  0.846\n",
      "Method:                 Least Squares   F-statistic:                     575.7\n",
      "Date:                Mon, 17 Oct 2022   Prob (F-statistic):          2.40e-126\n",
      "Time:                        00:11:17   Log-Likelihood:                -702.65\n",
      "No. Observations:                 314   AIC:                             1413.\n",
      "Df Residuals:                     310   BIC:                             1428.\n",
      "Df Model:                           3                                         \n",
      "Covariance Type:            nonrobust                                         \n",
      "==============================================================================\n",
      "                 coef    std err          t      P>|t|      [0.025      0.975]\n",
      "------------------------------------------------------------------------------\n",
      "const         -8.4543      2.959     -2.857      0.005     -14.276      -2.633\n",
      "Refine_D       0.1148      0.066      1.731      0.085      -0.016       0.245\n",
      "Mix_R          0.1558      0.006     24.752      0.000       0.143       0.168\n",
      "Grammage       0.5750      0.025     23.298      0.000       0.526       0.624\n",
      "==============================================================================\n",
      "Omnibus:                       22.090   Durbin-Watson:                   0.671\n",
      "Prob(Omnibus):                  0.000   Jarque-Bera (JB):               24.738\n",
      "Skew:                           0.643   Prob(JB):                     4.25e-06\n",
      "Kurtosis:                       3.488   Cond. No.                     2.25e+03\n",
      "==============================================================================\n",
      "\n",
      "Notes:\n",
      "[1] Standard Errors assume that the covariance matrix of the errors is correctly specified.\n",
      "[2] The condition number is large, 2.25e+03. This might indicate that there are\n",
      "strong multicollinearity or other numerical problems.\n",
      "const      -8.454291\n",
      "Refine_D    0.114762\n",
      "Mix_R       0.155780\n",
      "Grammage    0.574965\n",
      "dtype: float64\n"
     ]
    }
   ],
   "source": [
    "# Use the statsmodels package\n",
    "import statsmodels.api as sm\n",
    "\n",
    "X = sm.add_constant(paperdf.loc[:, ['Refine_D', 'Mix_R', 'Grammage']])\n",
    "lin_model = sm.OLS(paperdf['Tensile_MD'], X)\n",
    "paperdf_model1 = lin_model.fit()\n",
    "print(paperdf_model1.summary())\n",
    "print(paperdf_model1.params)"
   ]
  },
  {
   "cell_type": "markdown",
   "id": "2ab7ce20-28e6-4cff-8b8c-69512122c615",
   "metadata": {},
   "source": [
    "### The actual model\n",
    " y = -8.454291 + 0.114762 * Refine_D + 0.155780 * Mix_R + 0.574965 * Grammage"
   ]
  },
  {
   "cell_type": "markdown",
   "id": "1c370968-fa6b-49a6-b841-bd955f529b17",
   "metadata": {},
   "source": [
    "# 동일한 방법으로 Tensile_CD Linear Regression 모델생성"
   ]
  },
  {
   "cell_type": "code",
   "execution_count": 172,
   "id": "785be47e-a225-4694-855e-06811af29f8d",
   "metadata": {},
   "outputs": [],
   "source": [
    "# Use sklearn.linear_model \n",
    "from sklearn.linear_model import LinearRegression \n",
    " \n",
    "data_X = paperdf.loc[:, ['Refine_D', 'Mix_R', 'Grammage']]\n",
    "data_y = paperdf['Tensile_CD']"
   ]
  },
  {
   "cell_type": "code",
   "execution_count": 173,
   "id": "4c18fda9-f713-4bb9-b4ee-742d02482394",
   "metadata": {},
   "outputs": [],
   "source": [
    "sk_lin_model = LinearRegression()\n",
    "paperdf_model2 = sk_lin_model.fit(data_X, data_y)"
   ]
  },
  {
   "cell_type": "code",
   "execution_count": 174,
   "id": "ae659f02-75c7-4009-b3e0-b059b8054811",
   "metadata": {},
   "outputs": [
    {
     "data": {
      "text/plain": [
       "0.8451634371727371"
      ]
     },
     "execution_count": 174,
     "metadata": {},
     "output_type": "execute_result"
    }
   ],
   "source": [
    "r2_score = paperdf_model2.score(data_X, data_y)\n",
    "r2_score"
   ]
  },
  {
   "cell_type": "code",
   "execution_count": 175,
   "id": "7a056d43-ea44-4a9f-b7d6-55147a993a28",
   "metadata": {},
   "outputs": [
    {
     "name": "stdout",
     "output_type": "stream",
     "text": [
      "                            OLS Regression Results                            \n",
      "==============================================================================\n",
      "Dep. Variable:             Tensile_CD   R-squared:                       0.845\n",
      "Model:                            OLS   Adj. R-squared:                  0.844\n",
      "Method:                 Least Squares   F-statistic:                     564.0\n",
      "Date:                Mon, 17 Oct 2022   Prob (F-statistic):          3.49e-125\n",
      "Time:                        00:11:32   Log-Likelihood:                -485.96\n",
      "No. Observations:                 314   AIC:                             979.9\n",
      "Df Residuals:                     310   BIC:                             994.9\n",
      "Df Model:                           3                                         \n",
      "Covariance Type:            nonrobust                                         \n",
      "==============================================================================\n",
      "                 coef    std err          t      P>|t|      [0.025      0.975]\n",
      "------------------------------------------------------------------------------\n",
      "const         -3.1791      1.484     -2.142      0.033      -6.099      -0.259\n",
      "Refine_D      -0.0962      0.033     -2.891      0.004      -0.162      -0.031\n",
      "Mix_R          0.0567      0.003     17.979      0.000       0.051       0.063\n",
      "Grammage       0.3509      0.012     28.348      0.000       0.327       0.375\n",
      "==============================================================================\n",
      "Omnibus:                       25.543   Durbin-Watson:                   0.849\n",
      "Prob(Omnibus):                  0.000   Jarque-Bera (JB):               29.660\n",
      "Skew:                           0.687   Prob(JB):                     3.63e-07\n",
      "Kurtosis:                       3.618   Cond. No.                     2.25e+03\n",
      "==============================================================================\n",
      "\n",
      "Notes:\n",
      "[1] Standard Errors assume that the covariance matrix of the errors is correctly specified.\n",
      "[2] The condition number is large, 2.25e+03. This might indicate that there are\n",
      "strong multicollinearity or other numerical problems.\n",
      "const      -3.179054\n",
      "Refine_D   -0.096158\n",
      "Mix_R       0.056749\n",
      "Grammage    0.350860\n",
      "dtype: float64\n"
     ]
    }
   ],
   "source": [
    "# Use the statsmodels package\n",
    "import statsmodels.api as sm\n",
    "\n",
    "X = sm.add_constant(paperdf.loc[:, ['Refine_D', 'Mix_R', 'Grammage']])\n",
    "lin_model = sm.OLS(paperdf['Tensile_CD'], X)\n",
    "paperdf_model2 = lin_model.fit()\n",
    "print(paperdf_model2.summary())\n",
    "print(paperdf_model2.params)"
   ]
  },
  {
   "cell_type": "markdown",
   "id": "7c88c4fd-7481-4e3e-9a20-2965b58aa4fe",
   "metadata": {},
   "source": [
    "### The actual model for Tensile_CD\n",
    " y = -3.179054 - 0.096158 * Refine_D + 0.056749 * Mix_R + 0.350860 * Grammage"
   ]
  },
  {
   "cell_type": "markdown",
   "id": "4240540b-9025-4d87-8f98-1e4bc5524456",
   "metadata": {},
   "source": [
    "# 동일한 방법으로 Tear_MD Linear Regression 모델생성"
   ]
  },
  {
   "cell_type": "code",
   "execution_count": 176,
   "id": "a8f00b48-8707-4b3d-a16a-6a4dd104fd74",
   "metadata": {},
   "outputs": [],
   "source": [
    "# Use sklearn.linear_model \n",
    "from sklearn.linear_model import LinearRegression \n",
    " \n",
    "data_X = paperdf.loc[:, ['Refine_D', 'Mix_R', 'Grammage']]\n",
    "data_y = paperdf['Tear_MD']"
   ]
  },
  {
   "cell_type": "code",
   "execution_count": 177,
   "id": "5067a747-a9c4-4e53-bf9e-00610fd67eec",
   "metadata": {},
   "outputs": [],
   "source": [
    "sk_lin_model = LinearRegression()\n",
    "paperdf_model3 = sk_lin_model.fit(data_X, data_y)"
   ]
  },
  {
   "cell_type": "code",
   "execution_count": 178,
   "id": "823699ee-01ba-497b-baa7-0672edc1b030",
   "metadata": {},
   "outputs": [
    {
     "data": {
      "text/plain": [
       "0.7616687654949269"
      ]
     },
     "execution_count": 178,
     "metadata": {},
     "output_type": "execute_result"
    }
   ],
   "source": [
    "r2_score = paperdf_model3.score(data_X, data_y)\n",
    "r2_score"
   ]
  },
  {
   "cell_type": "code",
   "execution_count": 179,
   "id": "a710a30d-d74b-4d78-8658-83da36f6b1a9",
   "metadata": {},
   "outputs": [
    {
     "name": "stdout",
     "output_type": "stream",
     "text": [
      "                            OLS Regression Results                            \n",
      "==============================================================================\n",
      "Dep. Variable:                Tear_MD   R-squared:                       0.762\n",
      "Model:                            OLS   Adj. R-squared:                  0.759\n",
      "Method:                 Least Squares   F-statistic:                     330.2\n",
      "Date:                Mon, 17 Oct 2022   Prob (F-statistic):           3.57e-96\n",
      "Time:                        00:11:40   Log-Likelihood:                -1597.7\n",
      "No. Observations:                 314   AIC:                             3203.\n",
      "Df Residuals:                     310   BIC:                             3218.\n",
      "Df Model:                           3                                         \n",
      "Covariance Type:            nonrobust                                         \n",
      "==============================================================================\n",
      "                 coef    std err          t      P>|t|      [0.025      0.975]\n",
      "------------------------------------------------------------------------------\n",
      "const         70.3676     51.173      1.375      0.170     -30.323     171.059\n",
      "Refine_D      -5.7809      1.147     -5.041      0.000      -8.038      -3.524\n",
      "Mix_R          1.5465      0.109     14.208      0.000       1.332       1.761\n",
      "Grammage       8.7127      0.427     20.412      0.000       7.873       9.553\n",
      "==============================================================================\n",
      "Omnibus:                        8.285   Durbin-Watson:                   0.988\n",
      "Prob(Omnibus):                  0.016   Jarque-Bera (JB):                8.262\n",
      "Skew:                           0.348   Prob(JB):                       0.0161\n",
      "Kurtosis:                       3.383   Cond. No.                     2.25e+03\n",
      "==============================================================================\n",
      "\n",
      "Notes:\n",
      "[1] Standard Errors assume that the covariance matrix of the errors is correctly specified.\n",
      "[2] The condition number is large, 2.25e+03. This might indicate that there are\n",
      "strong multicollinearity or other numerical problems.\n",
      "const       70.367640\n",
      "Refine_D    -5.780933\n",
      "Mix_R        1.546525\n",
      "Grammage     8.712724\n",
      "dtype: float64\n"
     ]
    }
   ],
   "source": [
    "# Use the statsmodels package\n",
    "import statsmodels.api as sm\n",
    "\n",
    "X = sm.add_constant(paperdf.loc[:, ['Refine_D', 'Mix_R', 'Grammage']])\n",
    "lin_model = sm.OLS(paperdf['Tear_MD'], X)\n",
    "paperdf_model3 = lin_model.fit()\n",
    "print(paperdf_model3.summary())\n",
    "print(paperdf_model3.params)"
   ]
  },
  {
   "cell_type": "markdown",
   "id": "1f05b0a3-bb2a-4f71-a295-f76ed8469445",
   "metadata": {},
   "source": [
    "### The actual model for Tear_MD\n",
    " y = 70.367640 - 5.780933 * Refine_D + 1.546525 * Mix_R + 8.712724 * Grammage"
   ]
  },
  {
   "cell_type": "markdown",
   "id": "a64d9c87-cf9b-4feb-8754-76f266c6f47a",
   "metadata": {},
   "source": [
    "# 동일한 방법으로 Tear_CD Linear Regression 모델생성"
   ]
  },
  {
   "cell_type": "code",
   "execution_count": 180,
   "id": "358e8679-4449-4bc3-80b7-ca26421e9a1c",
   "metadata": {},
   "outputs": [],
   "source": [
    "# Use sklearn.linear_model \n",
    "from sklearn.linear_model import LinearRegression \n",
    " \n",
    "data_X = paperdf.loc[:, ['Refine_D', 'Mix_R', 'Grammage']]\n",
    "data_y = paperdf['Tear_CD']"
   ]
  },
  {
   "cell_type": "code",
   "execution_count": 181,
   "id": "134a1a1a-de26-4306-85c6-488950197441",
   "metadata": {},
   "outputs": [],
   "source": [
    "sk_lin_model = LinearRegression()\n",
    "paperdf_model4 = sk_lin_model.fit(data_X, data_y)"
   ]
  },
  {
   "cell_type": "code",
   "execution_count": 182,
   "id": "492db4fb-4105-4166-9f4e-da174c67a968",
   "metadata": {},
   "outputs": [
    {
     "data": {
      "text/plain": [
       "0.7897219463757068"
      ]
     },
     "execution_count": 182,
     "metadata": {},
     "output_type": "execute_result"
    }
   ],
   "source": [
    "r2_score = paperdf_model4.score(data_X, data_y)\n",
    "r2_score"
   ]
  },
  {
   "cell_type": "code",
   "execution_count": 183,
   "id": "05b4178e-796e-4bd3-b1e1-e4b54e3d92d7",
   "metadata": {},
   "outputs": [
    {
     "name": "stdout",
     "output_type": "stream",
     "text": [
      "                            OLS Regression Results                            \n",
      "==============================================================================\n",
      "Dep. Variable:                Tear_CD   R-squared:                       0.790\n",
      "Model:                            OLS   Adj. R-squared:                  0.788\n",
      "Method:                 Least Squares   F-statistic:                     388.1\n",
      "Date:                Mon, 17 Oct 2022   Prob (F-statistic):          1.35e-104\n",
      "Time:                        00:11:49   Log-Likelihood:                -1611.4\n",
      "No. Observations:                 314   AIC:                             3231.\n",
      "Df Residuals:                     310   BIC:                             3246.\n",
      "Df Model:                           3                                         \n",
      "Covariance Type:            nonrobust                                         \n",
      "==============================================================================\n",
      "                 coef    std err          t      P>|t|      [0.025      0.975]\n",
      "------------------------------------------------------------------------------\n",
      "const        -75.2935     53.463     -1.408      0.160    -180.490      29.903\n",
      "Refine_D      -2.0607      1.198     -1.720      0.086      -4.418       0.297\n",
      "Mix_R          1.9538      0.114     17.180      0.000       1.730       2.178\n",
      "Grammage       9.6450      0.446     21.629      0.000       8.768      10.522\n",
      "==============================================================================\n",
      "Omnibus:                        3.988   Durbin-Watson:                   0.941\n",
      "Prob(Omnibus):                  0.136   Jarque-Bera (JB):                4.378\n",
      "Skew:                           0.125   Prob(JB):                        0.112\n",
      "Kurtosis:                       3.521   Cond. No.                     2.25e+03\n",
      "==============================================================================\n",
      "\n",
      "Notes:\n",
      "[1] Standard Errors assume that the covariance matrix of the errors is correctly specified.\n",
      "[2] The condition number is large, 2.25e+03. This might indicate that there are\n",
      "strong multicollinearity or other numerical problems.\n",
      "const      -75.293473\n",
      "Refine_D    -2.060711\n",
      "Mix_R        1.953809\n",
      "Grammage     9.645041\n",
      "dtype: float64\n"
     ]
    }
   ],
   "source": [
    "# Use the statsmodels package\n",
    "import statsmodels.api as sm\n",
    "\n",
    "X = sm.add_constant(paperdf.loc[:, ['Refine_D', 'Mix_R', 'Grammage']])\n",
    "lin_model = sm.OLS(paperdf['Tear_CD'], X)\n",
    "paperdf_model4 = lin_model.fit()\n",
    "print(paperdf_model4.summary())\n",
    "print(paperdf_model4.params)"
   ]
  },
  {
   "cell_type": "markdown",
   "id": "3e111165-dc73-4d7e-bfd9-8eda50bb4665",
   "metadata": {},
   "source": [
    "### The actual model for Tear_CD\n",
    " y = -75.293473 - 2.060711 * Refine_D + 1.953809 * Mix_R + 9.645041 * Grammage"
   ]
  },
  {
   "cell_type": "code",
   "execution_count": null,
   "id": "a7f9e3bd-4d71-49b4-b29e-6a6ec5986d11",
   "metadata": {},
   "outputs": [],
   "source": [
    "\n",
    "\n"
   ]
  },
  {
   "attachments": {
    "3b582682-2cbf-4772-a5be-140c1b6ef171.png": {
     "image/png": "[encoded data removed]"
    }
   },
   "cell_type": "markdown",
   "id": "f7a91930-d556-44e0-bfc8-717c80715d1c",
   "metadata": {
    "jp-MarkdownHeadingCollapsed": true,
    "tags": []
   },
   "source": [
    "# 데이터 분할\n",
    "![image.png](attachment:3b582682-2cbf-4772-a5be-140c1b6ef171.png)"
   ]
  },
  {
   "cell_type": "markdown",
   "id": "87e831cc-00f7-4c93-aa43-8095d9016c4e",
   "metadata": {},
   "source": [
    "# Training, Varidation"
   ]
  },
  {
   "cell_type": "code",
   "execution_count": 184,
   "id": "3f25ef49-0fcc-44e4-8a23-c5ef2ff5dd19",
   "metadata": {},
   "outputs": [
    {
     "data": {
      "text/html": [
       "<div>\n",
       "<style scoped>\n",
       "    .dataframe tbody tr th:only-of-type {\n",
       "        vertical-align: middle;\n",
       "    }\n",
       "\n",
       "    .dataframe tbody tr th {\n",
       "        vertical-align: top;\n",
       "    }\n",
       "\n",
       "    .dataframe thead th {\n",
       "        text-align: right;\n",
       "    }\n",
       "</style>\n",
       "<table border=\"1\" class=\"dataframe\">\n",
       "  <thead>\n",
       "    <tr style=\"text-align: right;\">\n",
       "      <th></th>\n",
       "      <th>Refine_D</th>\n",
       "      <th>Mix_R</th>\n",
       "      <th>Grammage</th>\n",
       "      <th>Tensile_MD</th>\n",
       "      <th>Tensile_CD</th>\n",
       "      <th>Tear_MD</th>\n",
       "      <th>Tear_CD</th>\n",
       "    </tr>\n",
       "  </thead>\n",
       "  <tbody>\n",
       "    <tr>\n",
       "      <th>0</th>\n",
       "      <td>38</td>\n",
       "      <td>20.0</td>\n",
       "      <td>69.0</td>\n",
       "      <td>41</td>\n",
       "      <td>20</td>\n",
       "      <td>513</td>\n",
       "      <td>587</td>\n",
       "    </tr>\n",
       "    <tr>\n",
       "      <th>1</th>\n",
       "      <td>38</td>\n",
       "      <td>20.0</td>\n",
       "      <td>68.8</td>\n",
       "      <td>38</td>\n",
       "      <td>20</td>\n",
       "      <td>467</td>\n",
       "      <td>513</td>\n",
       "    </tr>\n",
       "    <tr>\n",
       "      <th>2</th>\n",
       "      <td>38</td>\n",
       "      <td>20.0</td>\n",
       "      <td>68.1</td>\n",
       "      <td>37</td>\n",
       "      <td>18</td>\n",
       "      <td>467</td>\n",
       "      <td>540</td>\n",
       "    </tr>\n",
       "    <tr>\n",
       "      <th>3</th>\n",
       "      <td>38</td>\n",
       "      <td>20.0</td>\n",
       "      <td>68.7</td>\n",
       "      <td>37</td>\n",
       "      <td>19</td>\n",
       "      <td>500</td>\n",
       "      <td>580</td>\n",
       "    </tr>\n",
       "    <tr>\n",
       "      <th>4</th>\n",
       "      <td>38</td>\n",
       "      <td>20.0</td>\n",
       "      <td>68.2</td>\n",
       "      <td>38</td>\n",
       "      <td>19</td>\n",
       "      <td>487</td>\n",
       "      <td>567</td>\n",
       "    </tr>\n",
       "  </tbody>\n",
       "</table>\n",
       "</div>"
      ],
      "text/plain": [
       "   Refine_D  Mix_R  Grammage  Tensile_MD  Tensile_CD  Tear_MD  Tear_CD\n",
       "0        38   20.0      69.0          41          20      513      587\n",
       "1        38   20.0      68.8          38          20      467      513\n",
       "2        38   20.0      68.1          37          18      467      540\n",
       "3        38   20.0      68.7          37          19      500      580\n",
       "4        38   20.0      68.2          38          19      487      567"
      ]
     },
     "execution_count": 184,
     "metadata": {},
     "output_type": "execute_result"
    }
   ],
   "source": [
    "paperdf.head()"
   ]
  },
  {
   "cell_type": "code",
   "execution_count": 185,
   "id": "b36ed291-c701-4b5a-8c03-b74528a64250",
   "metadata": {},
   "outputs": [
    {
     "data": {
      "text/plain": [
       "(314, 7)"
      ]
     },
     "execution_count": 185,
     "metadata": {},
     "output_type": "execute_result"
    }
   ],
   "source": [
    "paperdf.shape"
   ]
  },
  {
   "cell_type": "code",
   "execution_count": 186,
   "id": "bc0d998a-5f6a-49b2-93b3-791fef42c3a4",
   "metadata": {},
   "outputs": [],
   "source": [
    "import numpy as np\n",
    "np.random.seed(25)\n",
    "train = np.random.choice(paperdf.shape[0], int(0.7 * paperdf.shape[0]), replace=False)\n",
    "validation = [i for i in range(paperdf.shape[0]) if i not in train]"
   ]
  },
  {
   "cell_type": "code",
   "execution_count": 187,
   "id": "75f4a4e6-a497-4710-9fec-96a3a88f70b9",
   "metadata": {},
   "outputs": [
    {
     "data": {
      "text/plain": [
       "219"
      ]
     },
     "execution_count": 187,
     "metadata": {},
     "output_type": "execute_result"
    }
   ],
   "source": [
    "len(train)"
   ]
  },
  {
   "cell_type": "code",
   "execution_count": 188,
   "id": "5f5a3d13-e994-4d0d-b30a-3067aafe2f45",
   "metadata": {},
   "outputs": [
    {
     "data": {
      "text/plain": [
       "95"
      ]
     },
     "execution_count": 188,
     "metadata": {},
     "output_type": "execute_result"
    }
   ],
   "source": [
    "len(validation)"
   ]
  },
  {
   "cell_type": "code",
   "execution_count": 189,
   "id": "b4796f1d-2dd3-4c98-b242-c6da6892898b",
   "metadata": {},
   "outputs": [],
   "source": [
    "X_train = paperdf.iloc[train, :].drop(columns = ['Tensile_MD','Tensile_CD','Tear_MD','Tear_CD'])\n",
    "y_train = np.reshape(np.array(paperdf.loc[train, 'Tensile_MD']), (-1,1))"
   ]
  },
  {
   "cell_type": "code",
   "execution_count": 190,
   "id": "c7a95940-944c-4bb0-bf00-f638a3637285",
   "metadata": {},
   "outputs": [
    {
     "data": {
      "text/html": [
       "<div>\n",
       "<style scoped>\n",
       "    .dataframe tbody tr th:only-of-type {\n",
       "        vertical-align: middle;\n",
       "    }\n",
       "\n",
       "    .dataframe tbody tr th {\n",
       "        vertical-align: top;\n",
       "    }\n",
       "\n",
       "    .dataframe thead th {\n",
       "        text-align: right;\n",
       "    }\n",
       "</style>\n",
       "<table border=\"1\" class=\"dataframe\">\n",
       "  <thead>\n",
       "    <tr style=\"text-align: right;\">\n",
       "      <th></th>\n",
       "      <th>Refine_D</th>\n",
       "      <th>Mix_R</th>\n",
       "      <th>Grammage</th>\n",
       "    </tr>\n",
       "  </thead>\n",
       "  <tbody>\n",
       "    <tr>\n",
       "      <th>308</th>\n",
       "      <td>35</td>\n",
       "      <td>21.3</td>\n",
       "      <td>79.0</td>\n",
       "    </tr>\n",
       "    <tr>\n",
       "      <th>260</th>\n",
       "      <td>30</td>\n",
       "      <td>100.0</td>\n",
       "      <td>78.2</td>\n",
       "    </tr>\n",
       "    <tr>\n",
       "      <th>284</th>\n",
       "      <td>36</td>\n",
       "      <td>100.0</td>\n",
       "      <td>79.0</td>\n",
       "    </tr>\n",
       "    <tr>\n",
       "      <th>307</th>\n",
       "      <td>35</td>\n",
       "      <td>40.4</td>\n",
       "      <td>79.1</td>\n",
       "    </tr>\n",
       "    <tr>\n",
       "      <th>142</th>\n",
       "      <td>37</td>\n",
       "      <td>55.0</td>\n",
       "      <td>78.2</td>\n",
       "    </tr>\n",
       "    <tr>\n",
       "      <th>...</th>\n",
       "      <td>...</td>\n",
       "      <td>...</td>\n",
       "      <td>...</td>\n",
       "    </tr>\n",
       "    <tr>\n",
       "      <th>310</th>\n",
       "      <td>35</td>\n",
       "      <td>21.3</td>\n",
       "      <td>74.2</td>\n",
       "    </tr>\n",
       "    <tr>\n",
       "      <th>16</th>\n",
       "      <td>37</td>\n",
       "      <td>59.7</td>\n",
       "      <td>83.0</td>\n",
       "    </tr>\n",
       "    <tr>\n",
       "      <th>128</th>\n",
       "      <td>37</td>\n",
       "      <td>54.4</td>\n",
       "      <td>73.8</td>\n",
       "    </tr>\n",
       "    <tr>\n",
       "      <th>72</th>\n",
       "      <td>37</td>\n",
       "      <td>54.7</td>\n",
       "      <td>78.8</td>\n",
       "    </tr>\n",
       "    <tr>\n",
       "      <th>217</th>\n",
       "      <td>33</td>\n",
       "      <td>57.8</td>\n",
       "      <td>74.4</td>\n",
       "    </tr>\n",
       "  </tbody>\n",
       "</table>\n",
       "<p>219 rows × 3 columns</p>\n",
       "</div>"
      ],
      "text/plain": [
       "     Refine_D  Mix_R  Grammage\n",
       "308        35   21.3      79.0\n",
       "260        30  100.0      78.2\n",
       "284        36  100.0      79.0\n",
       "307        35   40.4      79.1\n",
       "142        37   55.0      78.2\n",
       "..        ...    ...       ...\n",
       "310        35   21.3      74.2\n",
       "16         37   59.7      83.0\n",
       "128        37   54.4      73.8\n",
       "72         37   54.7      78.8\n",
       "217        33   57.8      74.4\n",
       "\n",
       "[219 rows x 3 columns]"
      ]
     },
     "execution_count": 190,
     "metadata": {},
     "output_type": "execute_result"
    }
   ],
   "source": [
    "X_train"
   ]
  },
  {
   "cell_type": "code",
   "execution_count": 191,
   "id": "659e307c-110e-43c9-b4b4-deb36bb2be97",
   "metadata": {},
   "outputs": [
    {
     "data": {
      "text/plain": [
       "array([[42],\n",
       "       [61],\n",
       "       [58],\n",
       "       [45],\n",
       "       [50],\n",
       "       [40],\n",
       "       [50],\n",
       "       [47],\n",
       "       [46],\n",
       "       [50],\n",
       "       [46],\n",
       "       [46],\n",
       "       [46],\n",
       "       [45],\n",
       "       [36],\n",
       "       [57],\n",
       "       [52],\n",
       "       [44],\n",
       "       [47],\n",
       "       [46],\n",
       "       [48],\n",
       "       [46],\n",
       "       [44],\n",
       "       [46],\n",
       "       [49],\n",
       "       [46],\n",
       "       [49],\n",
       "       [47],\n",
       "       [41],\n",
       "       [42],\n",
       "       [48],\n",
       "       [56],\n",
       "       [52],\n",
       "       [45],\n",
       "       [48],\n",
       "       [38],\n",
       "       [38],\n",
       "       [36],\n",
       "       [48],\n",
       "       [43],\n",
       "       [47],\n",
       "       [46],\n",
       "       [51],\n",
       "       [45],\n",
       "       [55],\n",
       "       [52],\n",
       "       [68],\n",
       "       [52],\n",
       "       [44],\n",
       "       [47],\n",
       "       [45],\n",
       "       [54],\n",
       "       [46],\n",
       "       [44],\n",
       "       [46],\n",
       "       [44],\n",
       "       [46],\n",
       "       [46],\n",
       "       [48],\n",
       "       [52],\n",
       "       [38],\n",
       "       [42],\n",
       "       [43],\n",
       "       [51],\n",
       "       [58],\n",
       "       [48],\n",
       "       [58],\n",
       "       [39],\n",
       "       [47],\n",
       "       [46],\n",
       "       [48],\n",
       "       [46],\n",
       "       [47],\n",
       "       [43],\n",
       "       [47],\n",
       "       [38],\n",
       "       [48],\n",
       "       [46],\n",
       "       [41],\n",
       "       [46],\n",
       "       [37],\n",
       "       [48],\n",
       "       [55],\n",
       "       [48],\n",
       "       [57],\n",
       "       [46],\n",
       "       [50],\n",
       "       [54],\n",
       "       [48],\n",
       "       [47],\n",
       "       [60],\n",
       "       [48],\n",
       "       [48],\n",
       "       [37],\n",
       "       [48],\n",
       "       [46],\n",
       "       [39],\n",
       "       [47],\n",
       "       [45],\n",
       "       [41],\n",
       "       [48],\n",
       "       [60],\n",
       "       [52],\n",
       "       [53],\n",
       "       [44],\n",
       "       [48],\n",
       "       [59],\n",
       "       [46],\n",
       "       [59],\n",
       "       [39],\n",
       "       [41],\n",
       "       [37],\n",
       "       [46],\n",
       "       [50],\n",
       "       [39],\n",
       "       [53],\n",
       "       [49],\n",
       "       [44],\n",
       "       [46],\n",
       "       [48],\n",
       "       [46],\n",
       "       [52],\n",
       "       [48],\n",
       "       [57],\n",
       "       [46],\n",
       "       [44],\n",
       "       [48],\n",
       "       [40],\n",
       "       [46],\n",
       "       [48],\n",
       "       [37],\n",
       "       [48],\n",
       "       [49],\n",
       "       [49],\n",
       "       [45],\n",
       "       [39],\n",
       "       [41],\n",
       "       [47],\n",
       "       [63],\n",
       "       [41],\n",
       "       [67],\n",
       "       [52],\n",
       "       [46],\n",
       "       [44],\n",
       "       [46],\n",
       "       [36],\n",
       "       [48],\n",
       "       [46],\n",
       "       [36],\n",
       "       [44],\n",
       "       [50],\n",
       "       [46],\n",
       "       [51],\n",
       "       [54],\n",
       "       [41],\n",
       "       [43],\n",
       "       [48],\n",
       "       [44],\n",
       "       [43],\n",
       "       [53],\n",
       "       [46],\n",
       "       [48],\n",
       "       [49],\n",
       "       [37],\n",
       "       [49],\n",
       "       [46],\n",
       "       [48],\n",
       "       [57],\n",
       "       [53],\n",
       "       [52],\n",
       "       [45],\n",
       "       [50],\n",
       "       [39],\n",
       "       [49],\n",
       "       [43],\n",
       "       [44],\n",
       "       [48],\n",
       "       [45],\n",
       "       [46],\n",
       "       [49],\n",
       "       [48],\n",
       "       [51],\n",
       "       [46],\n",
       "       [45],\n",
       "       [42],\n",
       "       [37],\n",
       "       [50],\n",
       "       [47],\n",
       "       [58],\n",
       "       [44],\n",
       "       [48],\n",
       "       [51],\n",
       "       [51],\n",
       "       [46],\n",
       "       [46],\n",
       "       [49],\n",
       "       [46],\n",
       "       [51],\n",
       "       [52],\n",
       "       [44],\n",
       "       [45],\n",
       "       [48],\n",
       "       [41],\n",
       "       [40],\n",
       "       [52],\n",
       "       [40],\n",
       "       [48],\n",
       "       [39],\n",
       "       [40],\n",
       "       [46],\n",
       "       [49],\n",
       "       [52],\n",
       "       [42],\n",
       "       [42],\n",
       "       [38],\n",
       "       [52],\n",
       "       [48],\n",
       "       [49],\n",
       "       [46]], dtype=int64)"
      ]
     },
     "execution_count": 191,
     "metadata": {},
     "output_type": "execute_result"
    }
   ],
   "source": [
    "y_train"
   ]
  },
  {
   "cell_type": "code",
   "execution_count": 192,
   "id": "da5f2b5d-9795-46d9-ad6a-78f48e101d08",
   "metadata": {},
   "outputs": [
    {
     "name": "stdout",
     "output_type": "stream",
     "text": [
      "R2 score is  0.8284979904123919\n",
      "model coefficients:\n",
      " [[0.08716806 0.1608864  0.56112086]] \n",
      "intercept:  [-6.80249911]\n"
     ]
    }
   ],
   "source": [
    "lin_model = LinearRegression()\n",
    "paperdf_T_model = lin_model.fit(X_train, y_train)\n",
    "print('R2 score is ', paperdf_T_model.score(X_train, y_train))\n",
    "print('model coefficients:\\n', paperdf_T_model.coef_, '\\nintercept: ',paperdf_T_model.intercept_)"
   ]
  },
  {
   "cell_type": "code",
   "execution_count": 193,
   "id": "415043e0-6b36-4836-970f-5763c5a92444",
   "metadata": {},
   "outputs": [
    {
     "name": "stdout",
     "output_type": "stream",
     "text": [
      "the root mean square error is  2.3101712238739647\n"
     ]
    }
   ],
   "source": [
    "from sklearn.metrics import mean_squared_error\n",
    "RMSE = mean_squared_error(y_train, paperdf_T_model.predict(X_train), squared =False)\n",
    "print('the root mean square error is ', RMSE)"
   ]
  },
  {
   "cell_type": "code",
   "execution_count": 194,
   "id": "dbaeac86-9519-4d84-b97f-c7601056948f",
   "metadata": {},
   "outputs": [
    {
     "name": "stdout",
     "output_type": "stream",
     "text": [
      "the validation RMSE is  2.1082834319998347\n"
     ]
    }
   ],
   "source": [
    "oos = validation\n",
    "X_val = paperdf.iloc[oos, :].drop(columns = ['Tensile_MD','Tensile_CD','Tear_MD','Tear_CD'])\n",
    "y_val = paperdf.loc[oos, 'Tensile_MD']\n",
    "lin_model1 = LinearRegression()\n",
    "paperdf_V_model = lin_model1.fit(X_val, y_val)\n",
    "val_pred = paperdf_V_model.predict(X_val)\n",
    "val_RMSE = mean_squared_error(val_pred, y_val, squared = False)\n",
    "print('the validation RMSE is ', val_RMSE)"
   ]
  },
  {
   "cell_type": "code",
   "execution_count": 195,
   "id": "96415e54-710e-4187-85f6-b533d44d78b6",
   "metadata": {},
   "outputs": [
    {
     "name": "stdout",
     "output_type": "stream",
     "text": [
      "R2 score is  0.8886793188294118\n"
     ]
    }
   ],
   "source": [
    "r2_score = paperdf_V_model.score(X_val, y_val)\n",
    "print('R2 score is ', r2_score)"
   ]
  },
  {
   "cell_type": "code",
   "execution_count": null,
   "id": "6f17e72c-4bdc-4665-aa6e-93c064297340",
   "metadata": {},
   "outputs": [],
   "source": []
  },
  {
   "cell_type": "markdown",
   "id": "40751214-fa3c-4cb3-b63e-728e72e36195",
   "metadata": {},
   "source": [
    "# 같은방법으로 Tensile_CD"
   ]
  },
  {
   "cell_type": "code",
   "execution_count": 196,
   "id": "2c5268a2-35b8-4b60-b287-1316b4056aad",
   "metadata": {},
   "outputs": [],
   "source": [
    "X_train = paperdf.iloc[train, :].drop(columns = ['Tensile_MD','Tensile_CD','Tear_MD','Tear_CD'])\n",
    "y_train = np.reshape(np.array(paperdf.loc[train, 'Tensile_CD']), (-1,1))"
   ]
  },
  {
   "cell_type": "code",
   "execution_count": 197,
   "id": "1012d385-dfa6-4461-a90a-2e22667f7d70",
   "metadata": {},
   "outputs": [
    {
     "name": "stdout",
     "output_type": "stream",
     "text": [
      "R2 score is  0.8288116789204527\n",
      "model coefficients:\n",
      " [[-0.07313081  0.05919647  0.33635107]] \n",
      "intercept:  [-3.07925347]\n"
     ]
    }
   ],
   "source": [
    "lin_model = LinearRegression()\n",
    "paperdf_T_model = lin_model.fit(X_train, y_train)\n",
    "print('R2 score is ', paperdf_T_model.score(X_train, y_train))\n",
    "print('model coefficients:\\n', paperdf_T_model.coef_, '\\nintercept: ',paperdf_T_model.intercept_)"
   ]
  },
  {
   "cell_type": "code",
   "execution_count": 198,
   "id": "568c4cc9-f677-4b7f-8f42-8b585dcbc338",
   "metadata": {},
   "outputs": [
    {
     "name": "stdout",
     "output_type": "stream",
     "text": [
      "the root mean square error is  1.1274023566672502\n"
     ]
    }
   ],
   "source": [
    "from sklearn.metrics import mean_squared_error\n",
    "RMSE = mean_squared_error(y_train, paperdf_T_model.predict(X_train), squared =False)\n",
    "print('the root mean square error is ', RMSE)"
   ]
  },
  {
   "cell_type": "code",
   "execution_count": 199,
   "id": "dba1075c-5377-4954-bb31-643189b0845e",
   "metadata": {},
   "outputs": [
    {
     "name": "stdout",
     "output_type": "stream",
     "text": [
      "the validation RMSE is  1.1251692292018658\n"
     ]
    }
   ],
   "source": [
    "oos = validation\n",
    "X_val = paperdf.iloc[oos, :].drop(columns = ['Tensile_MD','Tensile_CD','Tear_MD','Tear_CD'])\n",
    "y_val = paperdf.loc[oos, 'Tensile_CD']\n",
    "lin_model1 = LinearRegression()\n",
    "paperdf_V_model = lin_model1.fit(X_val, y_val)\n",
    "val_pred = paperdf_V_model.predict(X_val)\n",
    "val_RMSE = mean_squared_error(val_pred, y_val, squared = False)\n",
    "print('the validation RMSE is ', val_RMSE)"
   ]
  },
  {
   "cell_type": "code",
   "execution_count": 200,
   "id": "c885ce61-2d2f-4dbf-afe5-a1945e34b5c9",
   "metadata": {},
   "outputs": [
    {
     "name": "stdout",
     "output_type": "stream",
     "text": [
      "R2 score is  0.8792974615049328\n"
     ]
    }
   ],
   "source": [
    "r2_score = paperdf_V_model.score(X_val, y_val)\n",
    "print('R2 score is ', r2_score)"
   ]
  },
  {
   "cell_type": "code",
   "execution_count": null,
   "id": "1ed37d79-813c-4e90-a36f-4944dc67fa9a",
   "metadata": {},
   "outputs": [],
   "source": []
  },
  {
   "cell_type": "markdown",
   "id": "1d5a2681-ba41-43ff-9676-4b75bf8e2708",
   "metadata": {},
   "source": [
    "# 같은방법으로 Tear_MD"
   ]
  },
  {
   "cell_type": "code",
   "execution_count": null,
   "id": "3463c2ae-a2d3-4d91-add9-862241c42309",
   "metadata": {},
   "outputs": [],
   "source": []
  },
  {
   "cell_type": "code",
   "execution_count": 201,
   "id": "e3487d60-b1c9-4b8c-b96b-fcf77d39017d",
   "metadata": {},
   "outputs": [],
   "source": [
    "X_train = paperdf.iloc[train, :].drop(columns = ['Tensile_MD','Tensile_CD','Tear_MD','Tear_CD'])\n",
    "y_train = np.reshape(np.array(paperdf.loc[train, 'Tear_MD']), (-1,1))"
   ]
  },
  {
   "cell_type": "code",
   "execution_count": 202,
   "id": "e230013b-4791-4f15-b7e5-73dec59afdc7",
   "metadata": {},
   "outputs": [
    {
     "name": "stdout",
     "output_type": "stream",
     "text": [
      "R2 score is  0.7378695826803803\n",
      "model coefficients:\n",
      " [[-5.45186027  1.71090451  8.08087017]] \n",
      "intercept:  [99.12372981]\n"
     ]
    }
   ],
   "source": [
    "lin_model = LinearRegression()\n",
    "paperdf_T_model = lin_model.fit(X_train, y_train)\n",
    "print('R2 score is ', paperdf_T_model.score(X_train, y_train))\n",
    "print('model coefficients:\\n', paperdf_T_model.coef_, '\\nintercept: ',paperdf_T_model.intercept_)"
   ]
  },
  {
   "cell_type": "code",
   "execution_count": 203,
   "id": "caa58a59-6832-4250-b23c-a4981e10c021",
   "metadata": {},
   "outputs": [
    {
     "name": "stdout",
     "output_type": "stream",
     "text": [
      "the root mean square error is  39.34205713547358\n"
     ]
    }
   ],
   "source": [
    "from sklearn.metrics import mean_squared_error\n",
    "RMSE = mean_squared_error(y_train, paperdf_T_model.predict(X_train), squared =False)\n",
    "print('the root mean square error is ', RMSE)"
   ]
  },
  {
   "cell_type": "code",
   "execution_count": 204,
   "id": "4b1b4c23-4ce8-4d64-848f-542977cdc71d",
   "metadata": {},
   "outputs": [
    {
     "name": "stdout",
     "output_type": "stream",
     "text": [
      "the validation RMSE is  37.399355191439945\n"
     ]
    }
   ],
   "source": [
    "oos = validation\n",
    "X_val = paperdf.iloc[oos, :].drop(columns = ['Tensile_MD','Tensile_CD','Tear_MD','Tear_CD'])\n",
    "y_val = paperdf.loc[oos, 'Tear_MD']\n",
    "lin_model1 = LinearRegression()\n",
    "paperdf_V_model = lin_model1.fit(X_val, y_val)\n",
    "val_pred = paperdf_V_model.predict(X_val)\n",
    "val_RMSE = mean_squared_error(val_pred, y_val, squared = False)\n",
    "print('the validation RMSE is ', val_RMSE)"
   ]
  },
  {
   "cell_type": "code",
   "execution_count": 205,
   "id": "a83abd99-3451-4127-811e-7f58b25a49da",
   "metadata": {
    "tags": []
   },
   "outputs": [
    {
     "name": "stdout",
     "output_type": "stream",
     "text": [
      "R2 score is  0.8167581835474745\n"
     ]
    }
   ],
   "source": [
    "r2_score = paperdf_V_model.score(X_val, y_val)\n",
    "print('R2 score is ', r2_score)"
   ]
  },
  {
   "cell_type": "code",
   "execution_count": null,
   "id": "777ac849-a8ec-4a04-a3af-814e490d7723",
   "metadata": {},
   "outputs": [],
   "source": []
  },
  {
   "cell_type": "markdown",
   "id": "f0bcac3c-4c19-4e09-860b-8c84d9bd404e",
   "metadata": {},
   "source": [
    "# 같은 방법으로 Tear_CD"
   ]
  },
  {
   "cell_type": "code",
   "execution_count": null,
   "id": "c4d0a846-f653-441b-b0a0-18937e7a1cce",
   "metadata": {},
   "outputs": [],
   "source": []
  },
  {
   "cell_type": "code",
   "execution_count": 206,
   "id": "54949e8a-9813-4e43-99fe-776ab66b1a66",
   "metadata": {},
   "outputs": [],
   "source": [
    "X_train = paperdf.iloc[train, :].drop(columns = ['Tensile_MD','Tensile_CD','Tear_MD','Tear_CD'])\n",
    "y_train = np.reshape(np.array(paperdf.loc[train, 'Tear_CD']), (-1,1))"
   ]
  },
  {
   "cell_type": "code",
   "execution_count": 207,
   "id": "52f11afc-9a9b-493b-aa87-7c9376217886",
   "metadata": {},
   "outputs": [
    {
     "name": "stdout",
     "output_type": "stream",
     "text": [
      "R2 score is  0.7555181959323352\n",
      "model coefficients:\n",
      " [[-2.22272259  2.0603667   9.32475439]] \n",
      "intercept:  [-50.80700427]\n"
     ]
    }
   ],
   "source": [
    "lin_model = LinearRegression()\n",
    "paperdf_T_model = lin_model.fit(X_train, y_train)\n",
    "print('R2 score is ', paperdf_T_model.score(X_train, y_train))\n",
    "print('model coefficients:\\n', paperdf_T_model.coef_, '\\nintercept: ',paperdf_T_model.intercept_)"
   ]
  },
  {
   "cell_type": "code",
   "execution_count": 208,
   "id": "098cd7d5-e5c7-4ba3-aacf-260aedab7502",
   "metadata": {},
   "outputs": [
    {
     "name": "stdout",
     "output_type": "stream",
     "text": [
      "the root mean square error is  42.90026335019189\n"
     ]
    }
   ],
   "source": [
    "from sklearn.metrics import mean_squared_error\n",
    "RMSE = mean_squared_error(y_train, paperdf_T_model.predict(X_train), squared =False)\n",
    "print('the root mean square error is ', RMSE)"
   ]
  },
  {
   "cell_type": "code",
   "execution_count": 209,
   "id": "87d37904-0b63-4dd9-bff5-b9ab11c41d2f",
   "metadata": {},
   "outputs": [
    {
     "name": "stdout",
     "output_type": "stream",
     "text": [
      "the validation RMSE is  35.53982565156824\n"
     ]
    }
   ],
   "source": [
    "oos = validation\n",
    "X_val = paperdf.iloc[oos, :].drop(columns = ['Tensile_MD','Tensile_CD','Tear_MD','Tear_CD'])\n",
    "y_val = paperdf.loc[oos, 'Tear_CD']\n",
    "lin_model1 = LinearRegression()\n",
    "paperdf_V_model = lin_model1.fit(X_val, y_val)\n",
    "val_pred = paperdf_V_model.predict(X_val)\n",
    "val_RMSE = mean_squared_error(val_pred, y_val, squared = False)\n",
    "print('the validation RMSE is ', val_RMSE)"
   ]
  },
  {
   "cell_type": "code",
   "execution_count": 210,
   "id": "b7959345-2998-494a-a940-b7177b252d23",
   "metadata": {
    "tags": []
   },
   "outputs": [
    {
     "name": "stdout",
     "output_type": "stream",
     "text": [
      "R2 score is  0.8595130393173998\n"
     ]
    }
   ],
   "source": [
    "r2_score = paperdf_V_model.score(X_val, y_val)\n",
    "print('R2 score is ', r2_score)"
   ]
  },
  {
   "cell_type": "code",
   "execution_count": null,
   "id": "f28049a7-2d06-4b8d-b0e2-536237489922",
   "metadata": {},
   "outputs": [],
   "source": []
  },
  {
   "cell_type": "code",
   "execution_count": null,
   "id": "5c4e4fd3-0836-4499-a214-83da7e3f880e",
   "metadata": {},
   "outputs": [],
   "source": []
  },
  {
   "cell_type": "markdown",
   "id": "72e1b898-49c3-47f7-8bc2-3e8aa37d3668",
   "metadata": {},
   "source": [
    "# 테스트"
   ]
  },
  {
   "cell_type": "markdown",
   "id": "f8e8a67f-d06a-4e44-bb4f-bc0be957f612",
   "metadata": {},
   "source": [
    "\n",
    "\n",
    "# 스케일링"
   ]
  },
  {
   "cell_type": "code",
   "execution_count": 211,
   "id": "25d86d82-6e09-4659-aafe-751319fad4f9",
   "metadata": {},
   "outputs": [
    {
     "data": {
      "text/html": [
       "<div>\n",
       "<style scoped>\n",
       "    .dataframe tbody tr th:only-of-type {\n",
       "        vertical-align: middle;\n",
       "    }\n",
       "\n",
       "    .dataframe tbody tr th {\n",
       "        vertical-align: top;\n",
       "    }\n",
       "\n",
       "    .dataframe thead th {\n",
       "        text-align: right;\n",
       "    }\n",
       "</style>\n",
       "<table border=\"1\" class=\"dataframe\">\n",
       "  <thead>\n",
       "    <tr style=\"text-align: right;\">\n",
       "      <th></th>\n",
       "      <th>Refine_D</th>\n",
       "      <th>Mix_R</th>\n",
       "      <th>Grammage</th>\n",
       "      <th>Tensile_MD</th>\n",
       "      <th>Tensile_CD</th>\n",
       "      <th>Tear_MD</th>\n",
       "      <th>Tear_CD</th>\n",
       "    </tr>\n",
       "  </thead>\n",
       "  <tbody>\n",
       "    <tr>\n",
       "      <th>0</th>\n",
       "      <td>38</td>\n",
       "      <td>20.0</td>\n",
       "      <td>69.0</td>\n",
       "      <td>41</td>\n",
       "      <td>20</td>\n",
       "      <td>513</td>\n",
       "      <td>587</td>\n",
       "    </tr>\n",
       "    <tr>\n",
       "      <th>1</th>\n",
       "      <td>38</td>\n",
       "      <td>20.0</td>\n",
       "      <td>68.8</td>\n",
       "      <td>38</td>\n",
       "      <td>20</td>\n",
       "      <td>467</td>\n",
       "      <td>513</td>\n",
       "    </tr>\n",
       "    <tr>\n",
       "      <th>2</th>\n",
       "      <td>38</td>\n",
       "      <td>20.0</td>\n",
       "      <td>68.1</td>\n",
       "      <td>37</td>\n",
       "      <td>18</td>\n",
       "      <td>467</td>\n",
       "      <td>540</td>\n",
       "    </tr>\n",
       "    <tr>\n",
       "      <th>3</th>\n",
       "      <td>38</td>\n",
       "      <td>20.0</td>\n",
       "      <td>68.7</td>\n",
       "      <td>37</td>\n",
       "      <td>19</td>\n",
       "      <td>500</td>\n",
       "      <td>580</td>\n",
       "    </tr>\n",
       "    <tr>\n",
       "      <th>4</th>\n",
       "      <td>38</td>\n",
       "      <td>20.0</td>\n",
       "      <td>68.2</td>\n",
       "      <td>38</td>\n",
       "      <td>19</td>\n",
       "      <td>487</td>\n",
       "      <td>567</td>\n",
       "    </tr>\n",
       "    <tr>\n",
       "      <th>...</th>\n",
       "      <td>...</td>\n",
       "      <td>...</td>\n",
       "      <td>...</td>\n",
       "      <td>...</td>\n",
       "      <td>...</td>\n",
       "      <td>...</td>\n",
       "      <td>...</td>\n",
       "    </tr>\n",
       "    <tr>\n",
       "      <th>309</th>\n",
       "      <td>35</td>\n",
       "      <td>21.3</td>\n",
       "      <td>79.6</td>\n",
       "      <td>41</td>\n",
       "      <td>21</td>\n",
       "      <td>520</td>\n",
       "      <td>613</td>\n",
       "    </tr>\n",
       "    <tr>\n",
       "      <th>310</th>\n",
       "      <td>35</td>\n",
       "      <td>21.3</td>\n",
       "      <td>74.2</td>\n",
       "      <td>38</td>\n",
       "      <td>19</td>\n",
       "      <td>453</td>\n",
       "      <td>507</td>\n",
       "    </tr>\n",
       "    <tr>\n",
       "      <th>311</th>\n",
       "      <td>35</td>\n",
       "      <td>21.3</td>\n",
       "      <td>73.7</td>\n",
       "      <td>38</td>\n",
       "      <td>19</td>\n",
       "      <td>453</td>\n",
       "      <td>500</td>\n",
       "    </tr>\n",
       "    <tr>\n",
       "      <th>312</th>\n",
       "      <td>35</td>\n",
       "      <td>21.3</td>\n",
       "      <td>73.5</td>\n",
       "      <td>39</td>\n",
       "      <td>20</td>\n",
       "      <td>460</td>\n",
       "      <td>547</td>\n",
       "    </tr>\n",
       "    <tr>\n",
       "      <th>313</th>\n",
       "      <td>35</td>\n",
       "      <td>21.3</td>\n",
       "      <td>73.5</td>\n",
       "      <td>40</td>\n",
       "      <td>20</td>\n",
       "      <td>487</td>\n",
       "      <td>540</td>\n",
       "    </tr>\n",
       "  </tbody>\n",
       "</table>\n",
       "<p>314 rows × 7 columns</p>\n",
       "</div>"
      ],
      "text/plain": [
       "     Refine_D  Mix_R  Grammage  Tensile_MD  Tensile_CD  Tear_MD  Tear_CD\n",
       "0          38   20.0      69.0          41          20      513      587\n",
       "1          38   20.0      68.8          38          20      467      513\n",
       "2          38   20.0      68.1          37          18      467      540\n",
       "3          38   20.0      68.7          37          19      500      580\n",
       "4          38   20.0      68.2          38          19      487      567\n",
       "..        ...    ...       ...         ...         ...      ...      ...\n",
       "309        35   21.3      79.6          41          21      520      613\n",
       "310        35   21.3      74.2          38          19      453      507\n",
       "311        35   21.3      73.7          38          19      453      500\n",
       "312        35   21.3      73.5          39          20      460      547\n",
       "313        35   21.3      73.5          40          20      487      540\n",
       "\n",
       "[314 rows x 7 columns]"
      ]
     },
     "execution_count": 211,
     "metadata": {},
     "output_type": "execute_result"
    }
   ],
   "source": [
    "paperdf = pd.read_excel(\"my_data.xlsx\", usecols = [3,5,7,9,10,11,12], header=1)\n",
    "paperdf"
   ]
  },
  {
   "cell_type": "code",
   "execution_count": 212,
   "id": "dd6f372b-5dfc-4fdd-b937-cca2dfbd2abd",
   "metadata": {},
   "outputs": [
    {
     "data": {
      "text/html": [
       "<div>\n",
       "<style scoped>\n",
       "    .dataframe tbody tr th:only-of-type {\n",
       "        vertical-align: middle;\n",
       "    }\n",
       "\n",
       "    .dataframe tbody tr th {\n",
       "        vertical-align: top;\n",
       "    }\n",
       "\n",
       "    .dataframe thead th {\n",
       "        text-align: right;\n",
       "    }\n",
       "</style>\n",
       "<table border=\"1\" class=\"dataframe\">\n",
       "  <thead>\n",
       "    <tr style=\"text-align: right;\">\n",
       "      <th></th>\n",
       "      <th>Refine_D</th>\n",
       "      <th>Mix_R</th>\n",
       "      <th>Grammage</th>\n",
       "      <th>Tensile_MD</th>\n",
       "      <th>Tensile_CD</th>\n",
       "      <th>Tear_MD</th>\n",
       "      <th>Tear_CD</th>\n",
       "    </tr>\n",
       "  </thead>\n",
       "  <tbody>\n",
       "    <tr>\n",
       "      <th>0</th>\n",
       "      <td>38</td>\n",
       "      <td>20.0</td>\n",
       "      <td>69.0</td>\n",
       "      <td>41</td>\n",
       "      <td>20</td>\n",
       "      <td>513</td>\n",
       "      <td>587</td>\n",
       "    </tr>\n",
       "    <tr>\n",
       "      <th>1</th>\n",
       "      <td>38</td>\n",
       "      <td>20.0</td>\n",
       "      <td>68.8</td>\n",
       "      <td>38</td>\n",
       "      <td>20</td>\n",
       "      <td>467</td>\n",
       "      <td>513</td>\n",
       "    </tr>\n",
       "    <tr>\n",
       "      <th>2</th>\n",
       "      <td>38</td>\n",
       "      <td>20.0</td>\n",
       "      <td>68.1</td>\n",
       "      <td>37</td>\n",
       "      <td>18</td>\n",
       "      <td>467</td>\n",
       "      <td>540</td>\n",
       "    </tr>\n",
       "    <tr>\n",
       "      <th>3</th>\n",
       "      <td>38</td>\n",
       "      <td>20.0</td>\n",
       "      <td>68.7</td>\n",
       "      <td>37</td>\n",
       "      <td>19</td>\n",
       "      <td>500</td>\n",
       "      <td>580</td>\n",
       "    </tr>\n",
       "    <tr>\n",
       "      <th>4</th>\n",
       "      <td>38</td>\n",
       "      <td>20.0</td>\n",
       "      <td>68.2</td>\n",
       "      <td>38</td>\n",
       "      <td>19</td>\n",
       "      <td>487</td>\n",
       "      <td>567</td>\n",
       "    </tr>\n",
       "  </tbody>\n",
       "</table>\n",
       "</div>"
      ],
      "text/plain": [
       "   Refine_D  Mix_R  Grammage  Tensile_MD  Tensile_CD  Tear_MD  Tear_CD\n",
       "0        38   20.0      69.0          41          20      513      587\n",
       "1        38   20.0      68.8          38          20      467      513\n",
       "2        38   20.0      68.1          37          18      467      540\n",
       "3        38   20.0      68.7          37          19      500      580\n",
       "4        38   20.0      68.2          38          19      487      567"
      ]
     },
     "execution_count": 212,
     "metadata": {},
     "output_type": "execute_result"
    }
   ],
   "source": [
    "paperdf.head()"
   ]
  },
  {
   "cell_type": "code",
   "execution_count": 213,
   "id": "91e2f97b-1463-47d8-8290-d4079c36f33e",
   "metadata": {},
   "outputs": [
    {
     "data": {
      "text/plain": [
       "array([-1.48670217,  1.76870154, 10.37385733])"
      ]
     },
     "execution_count": 213,
     "metadata": {},
     "output_type": "execute_result"
    }
   ],
   "source": [
    "paperdf_V_model.coef_"
   ]
  },
  {
   "cell_type": "code",
   "execution_count": 214,
   "id": "49b7b193-8046-4a18-809e-b483b7fa1e80",
   "metadata": {},
   "outputs": [
    {
     "name": "stdout",
     "output_type": "stream",
     "text": [
      "var\t coef\t\t\t range\n",
      "Refine_D \t -1.487 \twith range  10.0\n",
      "Mix_R \t 1.769 \twith range  100.0\n",
      "Grammage \t 10.374 \twith range  28.1\n"
     ]
    },
    {
     "ename": "IndexError",
     "evalue": "index 3 is out of bounds for axis 0 with size 3",
     "output_type": "error",
     "traceback": [
      "\u001b[1;31m---------------------------------------------------------------------------\u001b[0m",
      "\u001b[1;31mIndexError\u001b[0m                                Traceback (most recent call last)",
      "Input \u001b[1;32mIn [214]\u001b[0m, in \u001b[0;36m<cell line: 2>\u001b[1;34m()\u001b[0m\n\u001b[0;32m      1\u001b[0m \u001b[38;5;28mprint\u001b[39m(\u001b[38;5;124m'\u001b[39m\u001b[38;5;124mvar\u001b[39m\u001b[38;5;130;01m\\t\u001b[39;00m\u001b[38;5;124m coef\u001b[39m\u001b[38;5;130;01m\\t\u001b[39;00m\u001b[38;5;130;01m\\t\u001b[39;00m\u001b[38;5;130;01m\\t\u001b[39;00m\u001b[38;5;124m range\u001b[39m\u001b[38;5;124m'\u001b[39m)\n\u001b[0;32m      2\u001b[0m \u001b[38;5;28;01mfor\u001b[39;00m coef, var \u001b[38;5;129;01min\u001b[39;00m \u001b[38;5;28menumerate\u001b[39m(paperdf\u001b[38;5;241m.\u001b[39mcolumns[\u001b[38;5;241m0\u001b[39m:\u001b[38;5;241m-\u001b[39m\u001b[38;5;241m1\u001b[39m]):\n\u001b[1;32m----> 3\u001b[0m     \u001b[38;5;28mprint\u001b[39m(var, \u001b[38;5;124m'\u001b[39m\u001b[38;5;130;01m\\t\u001b[39;00m\u001b[38;5;124m'\u001b[39m, \u001b[38;5;28mround\u001b[39m(\u001b[43mpaperdf_V_model\u001b[49m\u001b[38;5;241;43m.\u001b[39;49m\u001b[43mcoef_\u001b[49m\u001b[43m[\u001b[49m\u001b[43mcoef\u001b[49m\u001b[43m]\u001b[49m, \u001b[38;5;241m3\u001b[39m),\\\n\u001b[0;32m      4\u001b[0m           \u001b[38;5;124m'\u001b[39m\u001b[38;5;130;01m\\t\u001b[39;00m\u001b[38;5;124mwith range \u001b[39m\u001b[38;5;124m'\u001b[39m, \u001b[38;5;28mround\u001b[39m(\u001b[38;5;28mfloat\u001b[39m(paperdf[var]\u001b[38;5;241m.\u001b[39mmax() \u001b[38;5;241m-\u001b[39m paperdf[var]\u001b[38;5;241m.\u001b[39mmin()), \u001b[38;5;241m2\u001b[39m))\n",
      "\u001b[1;31mIndexError\u001b[0m: index 3 is out of bounds for axis 0 with size 3"
     ]
    }
   ],
   "source": [
    "print('var\\t coef\\t\\t\\t range')\n",
    "for coef, var in enumerate(paperdf.columns[0:-1]):\n",
    "    print(var, '\\t', round(paperdf_V_model.coef_[coef], 3),\\\n",
    "          '\\twith range ', round(float(paperdf[var].max() - paperdf[var].min()), 2))"
   ]
  },
  {
   "cell_type": "markdown",
   "id": "558f8a8a-2f84-4515-83be-7a6c97e4e2ce",
   "metadata": {},
   "source": [
    "### min/max scaling"
   ]
  },
  {
   "cell_type": "code",
   "execution_count": 215,
   "id": "d727421a-7fe6-4c69-9823-ca6ac9de4f36",
   "metadata": {},
   "outputs": [
    {
     "data": {
      "text/html": [
       "<div>\n",
       "<style scoped>\n",
       "    .dataframe tbody tr th:only-of-type {\n",
       "        vertical-align: middle;\n",
       "    }\n",
       "\n",
       "    .dataframe tbody tr th {\n",
       "        vertical-align: top;\n",
       "    }\n",
       "\n",
       "    .dataframe thead th {\n",
       "        text-align: right;\n",
       "    }\n",
       "</style>\n",
       "<table border=\"1\" class=\"dataframe\">\n",
       "  <thead>\n",
       "    <tr style=\"text-align: right;\">\n",
       "      <th></th>\n",
       "      <th>Refine_D</th>\n",
       "      <th>Mix_R</th>\n",
       "      <th>Grammage</th>\n",
       "      <th>Tensile_MD</th>\n",
       "      <th>Tensile_CD</th>\n",
       "      <th>Tear_MD</th>\n",
       "      <th>Tear_CD</th>\n",
       "    </tr>\n",
       "  </thead>\n",
       "  <tbody>\n",
       "    <tr>\n",
       "      <th>308</th>\n",
       "      <td>35</td>\n",
       "      <td>21.3</td>\n",
       "      <td>79.0</td>\n",
       "      <td>42</td>\n",
       "      <td>22</td>\n",
       "      <td>547</td>\n",
       "      <td>613</td>\n",
       "    </tr>\n",
       "    <tr>\n",
       "      <th>260</th>\n",
       "      <td>30</td>\n",
       "      <td>100.0</td>\n",
       "      <td>78.2</td>\n",
       "      <td>61</td>\n",
       "      <td>29</td>\n",
       "      <td>744</td>\n",
       "      <td>824</td>\n",
       "    </tr>\n",
       "    <tr>\n",
       "      <th>284</th>\n",
       "      <td>36</td>\n",
       "      <td>100.0</td>\n",
       "      <td>79.0</td>\n",
       "      <td>58</td>\n",
       "      <td>28</td>\n",
       "      <td>688</td>\n",
       "      <td>772</td>\n",
       "    </tr>\n",
       "    <tr>\n",
       "      <th>307</th>\n",
       "      <td>35</td>\n",
       "      <td>40.4</td>\n",
       "      <td>79.1</td>\n",
       "      <td>45</td>\n",
       "      <td>22</td>\n",
       "      <td>576</td>\n",
       "      <td>624</td>\n",
       "    </tr>\n",
       "    <tr>\n",
       "      <th>142</th>\n",
       "      <td>37</td>\n",
       "      <td>55.0</td>\n",
       "      <td>78.2</td>\n",
       "      <td>50</td>\n",
       "      <td>24</td>\n",
       "      <td>596</td>\n",
       "      <td>688</td>\n",
       "    </tr>\n",
       "    <tr>\n",
       "      <th>...</th>\n",
       "      <td>...</td>\n",
       "      <td>...</td>\n",
       "      <td>...</td>\n",
       "      <td>...</td>\n",
       "      <td>...</td>\n",
       "      <td>...</td>\n",
       "      <td>...</td>\n",
       "    </tr>\n",
       "    <tr>\n",
       "      <th>310</th>\n",
       "      <td>35</td>\n",
       "      <td>21.3</td>\n",
       "      <td>74.2</td>\n",
       "      <td>38</td>\n",
       "      <td>19</td>\n",
       "      <td>453</td>\n",
       "      <td>507</td>\n",
       "    </tr>\n",
       "    <tr>\n",
       "      <th>16</th>\n",
       "      <td>37</td>\n",
       "      <td>59.7</td>\n",
       "      <td>83.0</td>\n",
       "      <td>52</td>\n",
       "      <td>26</td>\n",
       "      <td>720</td>\n",
       "      <td>793</td>\n",
       "    </tr>\n",
       "    <tr>\n",
       "      <th>128</th>\n",
       "      <td>37</td>\n",
       "      <td>54.4</td>\n",
       "      <td>73.8</td>\n",
       "      <td>48</td>\n",
       "      <td>23</td>\n",
       "      <td>613</td>\n",
       "      <td>707</td>\n",
       "    </tr>\n",
       "    <tr>\n",
       "      <th>72</th>\n",
       "      <td>37</td>\n",
       "      <td>54.7</td>\n",
       "      <td>78.8</td>\n",
       "      <td>49</td>\n",
       "      <td>23</td>\n",
       "      <td>664</td>\n",
       "      <td>700</td>\n",
       "    </tr>\n",
       "    <tr>\n",
       "      <th>217</th>\n",
       "      <td>33</td>\n",
       "      <td>57.8</td>\n",
       "      <td>74.4</td>\n",
       "      <td>46</td>\n",
       "      <td>22</td>\n",
       "      <td>607</td>\n",
       "      <td>687</td>\n",
       "    </tr>\n",
       "  </tbody>\n",
       "</table>\n",
       "<p>219 rows × 7 columns</p>\n",
       "</div>"
      ],
      "text/plain": [
       "     Refine_D  Mix_R  Grammage  Tensile_MD  Tensile_CD  Tear_MD  Tear_CD\n",
       "308        35   21.3      79.0          42          22      547      613\n",
       "260        30  100.0      78.2          61          29      744      824\n",
       "284        36  100.0      79.0          58          28      688      772\n",
       "307        35   40.4      79.1          45          22      576      624\n",
       "142        37   55.0      78.2          50          24      596      688\n",
       "..        ...    ...       ...         ...         ...      ...      ...\n",
       "310        35   21.3      74.2          38          19      453      507\n",
       "16         37   59.7      83.0          52          26      720      793\n",
       "128        37   54.4      73.8          48          23      613      707\n",
       "72         37   54.7      78.8          49          23      664      700\n",
       "217        33   57.8      74.4          46          22      607      687\n",
       "\n",
       "[219 rows x 7 columns]"
      ]
     },
     "execution_count": 215,
     "metadata": {},
     "output_type": "execute_result"
    }
   ],
   "source": [
    "scales = dict()\n",
    "X = paperdf.iloc[train, 0:7]\n",
    "X"
   ]
  },
  {
   "cell_type": "code",
   "execution_count": 216,
   "id": "f90c475a-4ee3-47c4-8c1f-5a7cc1bb0069",
   "metadata": {},
   "outputs": [
    {
     "data": {
      "text/plain": [
       "308    42\n",
       "260    61\n",
       "284    58\n",
       "307    45\n",
       "142    50\n",
       "       ..\n",
       "310    38\n",
       "16     52\n",
       "128    48\n",
       "72     49\n",
       "217    46\n",
       "Name: Tensile_MD, Length: 219, dtype: int64"
      ]
     },
     "execution_count": 216,
     "metadata": {},
     "output_type": "execute_result"
    }
   ],
   "source": [
    "y = paperdf.loc[train, 'Tensile_MD']\n",
    "y"
   ]
  },
  {
   "cell_type": "code",
   "execution_count": 217,
   "id": "0f787567-1e69-43c7-abac-c3b3a5787ab0",
   "metadata": {},
   "outputs": [
    {
     "data": {
      "text/html": [
       "<div>\n",
       "<style scoped>\n",
       "    .dataframe tbody tr th:only-of-type {\n",
       "        vertical-align: middle;\n",
       "    }\n",
       "\n",
       "    .dataframe tbody tr th {\n",
       "        vertical-align: top;\n",
       "    }\n",
       "\n",
       "    .dataframe thead th {\n",
       "        text-align: right;\n",
       "    }\n",
       "</style>\n",
       "<table border=\"1\" class=\"dataframe\">\n",
       "  <thead>\n",
       "    <tr style=\"text-align: right;\">\n",
       "      <th></th>\n",
       "      <th>Refine_D</th>\n",
       "      <th>Mix_R</th>\n",
       "      <th>Grammage</th>\n",
       "      <th>Tensile_MD</th>\n",
       "      <th>Tensile_CD</th>\n",
       "      <th>Tear_MD</th>\n",
       "      <th>Tear_CD</th>\n",
       "    </tr>\n",
       "  </thead>\n",
       "  <tbody>\n",
       "    <tr>\n",
       "      <th>308</th>\n",
       "      <td>0.5</td>\n",
       "      <td>0.213</td>\n",
       "      <td>0.412811</td>\n",
       "      <td>42</td>\n",
       "      <td>22</td>\n",
       "      <td>547</td>\n",
       "      <td>613</td>\n",
       "    </tr>\n",
       "    <tr>\n",
       "      <th>260</th>\n",
       "      <td>0.0</td>\n",
       "      <td>1.000</td>\n",
       "      <td>0.384342</td>\n",
       "      <td>61</td>\n",
       "      <td>29</td>\n",
       "      <td>744</td>\n",
       "      <td>824</td>\n",
       "    </tr>\n",
       "    <tr>\n",
       "      <th>284</th>\n",
       "      <td>0.6</td>\n",
       "      <td>1.000</td>\n",
       "      <td>0.412811</td>\n",
       "      <td>58</td>\n",
       "      <td>28</td>\n",
       "      <td>688</td>\n",
       "      <td>772</td>\n",
       "    </tr>\n",
       "    <tr>\n",
       "      <th>307</th>\n",
       "      <td>0.5</td>\n",
       "      <td>0.404</td>\n",
       "      <td>0.416370</td>\n",
       "      <td>45</td>\n",
       "      <td>22</td>\n",
       "      <td>576</td>\n",
       "      <td>624</td>\n",
       "    </tr>\n",
       "    <tr>\n",
       "      <th>142</th>\n",
       "      <td>0.7</td>\n",
       "      <td>0.550</td>\n",
       "      <td>0.384342</td>\n",
       "      <td>50</td>\n",
       "      <td>24</td>\n",
       "      <td>596</td>\n",
       "      <td>688</td>\n",
       "    </tr>\n",
       "    <tr>\n",
       "      <th>...</th>\n",
       "      <td>...</td>\n",
       "      <td>...</td>\n",
       "      <td>...</td>\n",
       "      <td>...</td>\n",
       "      <td>...</td>\n",
       "      <td>...</td>\n",
       "      <td>...</td>\n",
       "    </tr>\n",
       "    <tr>\n",
       "      <th>310</th>\n",
       "      <td>0.5</td>\n",
       "      <td>0.213</td>\n",
       "      <td>0.241993</td>\n",
       "      <td>38</td>\n",
       "      <td>19</td>\n",
       "      <td>453</td>\n",
       "      <td>507</td>\n",
       "    </tr>\n",
       "    <tr>\n",
       "      <th>16</th>\n",
       "      <td>0.7</td>\n",
       "      <td>0.597</td>\n",
       "      <td>0.555160</td>\n",
       "      <td>52</td>\n",
       "      <td>26</td>\n",
       "      <td>720</td>\n",
       "      <td>793</td>\n",
       "    </tr>\n",
       "    <tr>\n",
       "      <th>128</th>\n",
       "      <td>0.7</td>\n",
       "      <td>0.544</td>\n",
       "      <td>0.227758</td>\n",
       "      <td>48</td>\n",
       "      <td>23</td>\n",
       "      <td>613</td>\n",
       "      <td>707</td>\n",
       "    </tr>\n",
       "    <tr>\n",
       "      <th>72</th>\n",
       "      <td>0.7</td>\n",
       "      <td>0.547</td>\n",
       "      <td>0.405694</td>\n",
       "      <td>49</td>\n",
       "      <td>23</td>\n",
       "      <td>664</td>\n",
       "      <td>700</td>\n",
       "    </tr>\n",
       "    <tr>\n",
       "      <th>217</th>\n",
       "      <td>0.3</td>\n",
       "      <td>0.578</td>\n",
       "      <td>0.249110</td>\n",
       "      <td>46</td>\n",
       "      <td>22</td>\n",
       "      <td>607</td>\n",
       "      <td>687</td>\n",
       "    </tr>\n",
       "  </tbody>\n",
       "</table>\n",
       "<p>219 rows × 7 columns</p>\n",
       "</div>"
      ],
      "text/plain": [
       "     Refine_D  Mix_R  Grammage  Tensile_MD  Tensile_CD  Tear_MD  Tear_CD\n",
       "308       0.5  0.213  0.412811          42          22      547      613\n",
       "260       0.0  1.000  0.384342          61          29      744      824\n",
       "284       0.6  1.000  0.412811          58          28      688      772\n",
       "307       0.5  0.404  0.416370          45          22      576      624\n",
       "142       0.7  0.550  0.384342          50          24      596      688\n",
       "..        ...    ...       ...         ...         ...      ...      ...\n",
       "310       0.5  0.213  0.241993          38          19      453      507\n",
       "16        0.7  0.597  0.555160          52          26      720      793\n",
       "128       0.7  0.544  0.227758          48          23      613      707\n",
       "72        0.7  0.547  0.405694          49          23      664      700\n",
       "217       0.3  0.578  0.249110          46          22      607      687\n",
       "\n",
       "[219 rows x 7 columns]"
      ]
     },
     "execution_count": 217,
     "metadata": {},
     "output_type": "execute_result"
    }
   ],
   "source": [
    "for col in paperdf.columns[0:3]:\n",
    "    min = paperdf[col].min()\n",
    "    max = paperdf[col].max()\n",
    "    range = max - min\n",
    "    scales.update({col : dict({'Xmin' : min, 'Xmax' : max, 'Xrange' : range})})\n",
    "    X[col] = (paperdf[col] - min) / range\n",
    "X"
   ]
  },
  {
   "cell_type": "code",
   "execution_count": 218,
   "id": "b823404e-3865-43e6-8ef8-9f7534292052",
   "metadata": {},
   "outputs": [
    {
     "name": "stdout",
     "output_type": "stream",
     "text": [
      "          Xmin   Xmax  Xrange\n",
      "Refine_D  30.0   40.0    10.0\n",
      "Mix_R      0.0  100.0   100.0\n",
      "Grammage  67.4   95.5    28.1\n"
     ]
    },
    {
     "data": {
      "text/html": [
       "<div>\n",
       "<style scoped>\n",
       "    .dataframe tbody tr th:only-of-type {\n",
       "        vertical-align: middle;\n",
       "    }\n",
       "\n",
       "    .dataframe tbody tr th {\n",
       "        vertical-align: top;\n",
       "    }\n",
       "\n",
       "    .dataframe thead th {\n",
       "        text-align: right;\n",
       "    }\n",
       "</style>\n",
       "<table border=\"1\" class=\"dataframe\">\n",
       "  <thead>\n",
       "    <tr style=\"text-align: right;\">\n",
       "      <th></th>\n",
       "      <th>count</th>\n",
       "      <th>mean</th>\n",
       "      <th>std</th>\n",
       "      <th>min</th>\n",
       "      <th>25%</th>\n",
       "      <th>50%</th>\n",
       "      <th>75%</th>\n",
       "      <th>max</th>\n",
       "    </tr>\n",
       "  </thead>\n",
       "  <tbody>\n",
       "    <tr>\n",
       "      <th>Refine_D</th>\n",
       "      <td>219.0</td>\n",
       "      <td>0.585388</td>\n",
       "      <td>0.203335</td>\n",
       "      <td>0.0</td>\n",
       "      <td>0.400000</td>\n",
       "      <td>0.700000</td>\n",
       "      <td>0.700000</td>\n",
       "      <td>1.0</td>\n",
       "    </tr>\n",
       "    <tr>\n",
       "      <th>Mix_R</th>\n",
       "      <td>219.0</td>\n",
       "      <td>0.492680</td>\n",
       "      <td>0.210433</td>\n",
       "      <td>0.0</td>\n",
       "      <td>0.442000</td>\n",
       "      <td>0.549000</td>\n",
       "      <td>0.564000</td>\n",
       "      <td>1.0</td>\n",
       "    </tr>\n",
       "    <tr>\n",
       "      <th>Grammage</th>\n",
       "      <td>219.0</td>\n",
       "      <td>0.313606</td>\n",
       "      <td>0.191493</td>\n",
       "      <td>0.0</td>\n",
       "      <td>0.213523</td>\n",
       "      <td>0.377224</td>\n",
       "      <td>0.412811</td>\n",
       "      <td>1.0</td>\n",
       "    </tr>\n",
       "    <tr>\n",
       "      <th>Tensile_MD</th>\n",
       "      <td>219.0</td>\n",
       "      <td>47.013699</td>\n",
       "      <td>5.591179</td>\n",
       "      <td>36.0</td>\n",
       "      <td>44.000000</td>\n",
       "      <td>46.000000</td>\n",
       "      <td>49.000000</td>\n",
       "      <td>68.0</td>\n",
       "    </tr>\n",
       "    <tr>\n",
       "      <th>Tensile_CD</th>\n",
       "      <td>219.0</td>\n",
       "      <td>22.849315</td>\n",
       "      <td>2.731088</td>\n",
       "      <td>18.0</td>\n",
       "      <td>21.000000</td>\n",
       "      <td>23.000000</td>\n",
       "      <td>24.000000</td>\n",
       "      <td>34.0</td>\n",
       "    </tr>\n",
       "    <tr>\n",
       "      <th>Tear_MD</th>\n",
       "      <td>219.0</td>\n",
       "      <td>603.808219</td>\n",
       "      <td>77.017987</td>\n",
       "      <td>433.0</td>\n",
       "      <td>547.000000</td>\n",
       "      <td>600.000000</td>\n",
       "      <td>646.500000</td>\n",
       "      <td>896.0</td>\n",
       "    </tr>\n",
       "    <tr>\n",
       "      <th>Tear_CD</th>\n",
       "      <td>219.0</td>\n",
       "      <td>681.671233</td>\n",
       "      <td>86.962196</td>\n",
       "      <td>480.0</td>\n",
       "      <td>628.000000</td>\n",
       "      <td>680.000000</td>\n",
       "      <td>720.000000</td>\n",
       "      <td>1000.0</td>\n",
       "    </tr>\n",
       "  </tbody>\n",
       "</table>\n",
       "</div>"
      ],
      "text/plain": [
       "            count        mean        std    min         25%         50%  \\\n",
       "Refine_D    219.0    0.585388   0.203335    0.0    0.400000    0.700000   \n",
       "Mix_R       219.0    0.492680   0.210433    0.0    0.442000    0.549000   \n",
       "Grammage    219.0    0.313606   0.191493    0.0    0.213523    0.377224   \n",
       "Tensile_MD  219.0   47.013699   5.591179   36.0   44.000000   46.000000   \n",
       "Tensile_CD  219.0   22.849315   2.731088   18.0   21.000000   23.000000   \n",
       "Tear_MD     219.0  603.808219  77.017987  433.0  547.000000  600.000000   \n",
       "Tear_CD     219.0  681.671233  86.962196  480.0  628.000000  680.000000   \n",
       "\n",
       "                   75%     max  \n",
       "Refine_D      0.700000     1.0  \n",
       "Mix_R         0.564000     1.0  \n",
       "Grammage      0.412811     1.0  \n",
       "Tensile_MD   49.000000    68.0  \n",
       "Tensile_CD   24.000000    34.0  \n",
       "Tear_MD     646.500000   896.0  \n",
       "Tear_CD     720.000000  1000.0  "
      ]
     },
     "execution_count": 218,
     "metadata": {},
     "output_type": "execute_result"
    }
   ],
   "source": [
    "scales = pd.DataFrame.from_dict(scales).T\n",
    "print(scales)\n",
    "X.describe().T"
   ]
  },
  {
   "cell_type": "markdown",
   "id": "9b9a2546-8443-464b-9a18-a3906fa96d04",
   "metadata": {},
   "source": [
    "# scaling the data using the MinMaxScaler() sklearn method"
   ]
  },
  {
   "cell_type": "code",
   "execution_count": 242,
   "id": "f934f16a-ecec-4ddc-a744-1765d93bf8c8",
   "metadata": {},
   "outputs": [],
   "source": [
    "from sklearn.preprocessing import MinMaxScaler\n",
    "scaler = MinMaxScaler()"
   ]
  },
  {
   "cell_type": "code",
   "execution_count": 243,
   "id": "9dca4c0b-7568-4540-94c7-5e011b4bff49",
   "metadata": {},
   "outputs": [
    {
     "data": {
      "text/plain": [
       "array([[0.5       , 0.213     , 0.41281139],\n",
       "       [0.        , 1.        , 0.38434164],\n",
       "       [0.6       , 1.        , 0.41281139],\n",
       "       [0.5       , 0.404     , 0.41637011],\n",
       "       [0.7       , 0.55      , 0.38434164],\n",
       "       [0.7       , 0.202     , 0.02491103],\n",
       "       [0.1       , 0.542     , 0.41281139],\n",
       "       [0.7       , 0.556     , 0.0747331 ],\n",
       "       [0.7       , 0.556     , 0.23131673],\n",
       "       [0.7       , 0.546     , 0.41281139],\n",
       "       [0.8       , 0.561     , 0.28113879],\n",
       "       [0.4       , 0.595     , 0.11032028],\n",
       "       [0.4       , 0.563     , 0.23843416],\n",
       "       [0.7       , 0.556     , 0.05338078],\n",
       "       [0.4       , 0.213     , 0.06049822],\n",
       "       [0.6       , 1.        , 0.41637011],\n",
       "       [0.2       , 0.542     , 0.41637011],\n",
       "       [0.7       , 0.554     , 0.0747331 ],\n",
       "       [0.8       , 0.        , 0.35587189],\n",
       "       [0.7       , 0.541     , 0.21708185],\n",
       "       [0.1       , 0.542     , 0.39145907],\n",
       "       [0.7       , 0.564     , 0.20640569],\n",
       "       [0.5       , 0.415     , 0.39145907],\n",
       "       [0.8       , 0.553     , 0.27046263],\n",
       "       [0.7       , 0.547     , 0.41637011],\n",
       "       [0.4       , 0.448     , 0.39857651],\n",
       "       [0.7       , 0.547     , 0.40925267],\n",
       "       [0.7       , 0.556     , 0.09964413],\n",
       "       [1.        , 0.        , 0.22419929],\n",
       "       [1.        , 0.        , 0.21352313],\n",
       "       [0.7       , 0.564     , 0.24911032],\n",
       "       [0.8       , 0.542     , 0.39857651],\n",
       "       [0.7       , 0.597     , 0.60142349],\n",
       "       [0.5       , 0.535     , 0.40925267],\n",
       "       [0.7       , 0.556     , 0.23843416],\n",
       "       [0.8       , 0.2       , 0.02846975],\n",
       "       [0.6       , 0.201     , 0.07117438],\n",
       "       [0.4       , 0.213     , 0.0569395 ],\n",
       "       [0.8       , 0.566     , 0.38790036],\n",
       "       [0.7       , 0.201     , 0.38434164],\n",
       "       [0.7       , 0.556     , 0.06049822],\n",
       "       [0.4       , 0.549     , 0.24911032],\n",
       "       [0.5       , 0.595     , 0.40213523],\n",
       "       [0.5       , 0.542     , 0.40213523],\n",
       "       [0.6       , 1.        , 0.45551601],\n",
       "       [0.8       , 0.562     , 0.59074733],\n",
       "       [0.3       , 1.        , 0.75800712],\n",
       "       [0.7       , 0.55      , 0.38434164],\n",
       "       [0.7       , 0.597     , 0.04270463],\n",
       "       [0.5       , 0.415     , 0.39857651],\n",
       "       [0.4       , 0.595     , 0.06049822],\n",
       "       [0.7       , 0.597     , 0.61565836],\n",
       "       [0.5       , 0.549     , 0.23843416],\n",
       "       [0.7       , 0.597     , 0.03914591],\n",
       "       [0.5       , 0.549     , 0.22775801],\n",
       "       [0.5       , 0.404     , 0.4519573 ],\n",
       "       [0.5       , 0.549     , 0.23131673],\n",
       "       [0.8       , 0.561     , 0.2455516 ],\n",
       "       [0.8       , 0.55      , 0.36298932],\n",
       "       [0.7       , 0.597     , 0.40925267],\n",
       "       [0.8       , 0.2       , 0.08185053],\n",
       "       [0.8       , 0.203     , 0.3772242 ],\n",
       "       [0.8       , 0.206     , 0.40925267],\n",
       "       [0.8       , 0.562     , 0.38434164],\n",
       "       [0.5       , 0.845     , 0.46619217],\n",
       "       [0.7       , 0.556     , 0.08185053],\n",
       "       [0.8       , 0.531     , 0.96797153],\n",
       "       [0.6       , 0.201     , 0.06405694],\n",
       "       [0.7       , 0.556     , 0.24911032],\n",
       "       [0.5       , 0.535     , 0.4519573 ],\n",
       "       [0.3       , 0.578     , 0.25266904],\n",
       "       [0.4       , 0.448     , 0.39857651],\n",
       "       [0.2       , 0.595     , 0.04626335],\n",
       "       [0.2       , 0.59      , 0.06405694],\n",
       "       [0.7       , 0.564     , 0.22775801],\n",
       "       [0.8       , 0.2       , 0.04982206],\n",
       "       [0.4       , 0.448     , 0.45551601],\n",
       "       [0.8       , 0.56      , 0.25622776],\n",
       "       [0.7       , 0.548     , 0.10320285],\n",
       "       [0.7       , 0.208     , 0.44128114],\n",
       "       [0.4       , 0.213     , 0.02135231],\n",
       "       [0.4       , 0.566     , 0.41992883],\n",
       "       [0.7       , 0.548     , 0.41281139],\n",
       "       [0.5       , 0.595     , 0.37010676],\n",
       "       [0.2       , 1.        , 0.36654804],\n",
       "       [0.8       , 0.553     , 0.25266904],\n",
       "       [0.7       , 0.546     , 0.38790036],\n",
       "       [0.6       , 1.        , 0.47686833],\n",
       "       [0.5       , 0.595     , 0.39857651],\n",
       "       [0.4       , 0.442     , 0.39857651],\n",
       "       [0.        , 1.        , 0.42348754],\n",
       "       [0.4       , 0.567     , 0.38790036],\n",
       "       [0.8       , 0.554     , 0.41992883],\n",
       "       [0.8       , 0.2       , 0.04626335],\n",
       "       [0.4       , 0.563     , 0.42704626],\n",
       "       [0.5       , 0.549     , 0.22775801],\n",
       "       [0.5       , 0.213     , 0.21708185],\n",
       "       [0.4       , 0.549     , 0.2633452 ],\n",
       "       [0.7       , 0.556     , 0.08540925],\n",
       "       [0.4       , 0.217     , 0.44483986],\n",
       "       [0.4       , 0.448     , 0.38790036],\n",
       "       [0.        , 1.        , 0.39857651],\n",
       "       [0.8       , 0.562     , 0.58362989],\n",
       "       [0.6       , 1.        , 0.46619217],\n",
       "       [0.3       , 0.591     , 0.04982206],\n",
       "       [0.7       , 0.546     , 0.39857651],\n",
       "       [0.8       , 0.548     , 0.97508897],\n",
       "       [0.7       , 0.208     , 0.40569395],\n",
       "       [0.7       , 0.55      , 0.76512456],\n",
       "       [0.7       , 0.202     , 0.04270463],\n",
       "       [0.8       , 0.2       , 0.0569395 ],\n",
       "       [0.5       , 0.201     , 0.04982206],\n",
       "       [0.7       , 0.556     , 0.05338078],\n",
       "       [0.7       , 0.562     , 0.05338078],\n",
       "       [0.4       , 0.201     , 0.04270463],\n",
       "       [0.7       , 0.597     , 0.65836299],\n",
       "       [0.4       , 0.566     , 0.41637011],\n",
       "       [0.8       , 0.541     , 0.04626335],\n",
       "       [0.7       , 0.202     , 0.38790036],\n",
       "       [0.4       , 0.448     , 0.39501779],\n",
       "       [0.5       , 0.535     , 0.27758007],\n",
       "       [0.8       , 0.548     , 0.43060498],\n",
       "       [0.2       , 0.542     , 0.40213523],\n",
       "       [0.7       , 0.55      , 0.80427046],\n",
       "       [0.4       , 0.563     , 0.24199288],\n",
       "       [0.7       , 0.201     , 0.38434164],\n",
       "       [0.5       , 0.558     , 0.39501779],\n",
       "       [1.        , 0.        , 0.22775801],\n",
       "       [0.7       , 0.564     , 0.23131673],\n",
       "       [0.7       , 0.597     , 0.42348754],\n",
       "       [0.8       , 0.206     , 0.2455516 ],\n",
       "       [0.7       , 0.546     , 0.39857651],\n",
       "       [0.7       , 0.55      , 0.41992883],\n",
       "       [0.4       , 0.399     , 0.3772242 ],\n",
       "       [0.8       , 0.        , 0.33096085],\n",
       "       [0.3       , 0.195     , 0.        ],\n",
       "       [0.4       , 0.217     , 0.39857651],\n",
       "       [0.1       , 0.595     , 0.08185053],\n",
       "       [0.7       , 0.558     , 0.95729537],\n",
       "       [0.4       , 0.217     , 0.3772242 ],\n",
       "       [0.3       , 1.        , 0.73309609],\n",
       "       [0.8       , 0.548     , 0.39501779],\n",
       "       [0.8       , 0.593     , 0.22419929],\n",
       "       [0.7       , 0.566     , 0.04270463],\n",
       "       [0.7       , 0.556     , 0.07117438],\n",
       "       [0.8       , 0.2       , 0.10676157],\n",
       "       [0.7       , 0.556     , 0.23843416],\n",
       "       [0.5       , 0.549     , 0.24911032],\n",
       "       [0.5       , 0.201     , 0.07829181],\n",
       "       [0.8       , 0.541     , 0.10320285],\n",
       "       [0.4       , 0.459     , 0.40569395],\n",
       "       [0.7       , 0.564     , 0.25266904],\n",
       "       [0.4       , 0.448     , 0.40569395],\n",
       "       [0.6       , 1.        , 0.44839858],\n",
       "       [0.7       , 0.        , 0.35587189],\n",
       "       [0.5       , 0.415     , 0.39857651],\n",
       "       [0.1       , 0.542     , 0.41281139],\n",
       "       [0.7       , 0.597     , 0.05338078],\n",
       "       [0.8       , 0.206     , 0.42348754],\n",
       "       [0.8       , 0.562     , 0.60498221],\n",
       "       [0.8       , 0.593     , 0.22064057],\n",
       "       [0.8       , 0.55      , 0.39501779],\n",
       "       [0.7       , 0.546     , 0.37366548],\n",
       "       [0.5       , 0.201     , 0.07829181],\n",
       "       [0.7       , 0.546     , 0.40925267],\n",
       "       [0.8       , 0.56      , 0.23487544],\n",
       "       [0.8       , 0.55      , 0.40213523],\n",
       "       [0.4       , 1.        , 0.41992883],\n",
       "       [0.8       , 0.562     , 0.58718861],\n",
       "       [0.7       , 0.55      , 0.3772242 ],\n",
       "       [0.4       , 0.588     , 0.39501779],\n",
       "       [0.4       , 0.563     , 0.40213523],\n",
       "       [0.7       , 0.208     , 0.02846975],\n",
       "       [0.4       , 0.567     , 0.37366548],\n",
       "       [0.2       , 0.59      , 0.06405694],\n",
       "       [0.7       , 0.556     , 0.02135231],\n",
       "       [0.9       , 0.55      , 0.4341637 ],\n",
       "       [0.4       , 0.588     , 0.38434164],\n",
       "       [0.4       , 0.448     , 0.43060498],\n",
       "       [0.7       , 0.547     , 0.40213523],\n",
       "       [0.7       , 0.594     , 0.43060498],\n",
       "       [0.4       , 0.442     , 0.44128114],\n",
       "       [0.4       , 0.549     , 0.24199288],\n",
       "       [0.7       , 0.556     , 0.08896797],\n",
       "       [0.7       , 0.        , 0.22419929],\n",
       "       [0.4       , 0.195     , 0.02491103],\n",
       "       [0.7       , 0.55      , 0.43060498],\n",
       "       [0.7       , 0.541     , 0.25978648],\n",
       "       [0.5       , 0.558     , 1.        ],\n",
       "       [0.6       , 0.        , 0.33096085],\n",
       "       [0.1       , 0.542     , 0.3772242 ],\n",
       "       [0.4       , 0.566     , 0.40569395],\n",
       "       [0.7       , 0.597     , 0.55160142],\n",
       "       [0.7       , 0.556     , 0.04982206],\n",
       "       [0.5       , 0.549     , 0.24911032],\n",
       "       [0.5       , 0.558     , 0.39145907],\n",
       "       [0.4       , 0.563     , 0.28113879],\n",
       "       [0.8       , 0.562     , 0.60142349],\n",
       "       [0.8       , 0.562     , 0.58718861],\n",
       "       [0.7       , 0.597     , 0.12099644],\n",
       "       [0.3       , 0.578     , 0.21352313],\n",
       "       [0.1       , 0.595     , 0.10676157],\n",
       "       [0.4       , 0.217     , 0.40569395],\n",
       "       [0.7       , 0.541     , 0.04270463],\n",
       "       [0.7       , 0.562     , 0.05338078],\n",
       "       [0.7       , 0.        , 0.23843416],\n",
       "       [0.7       , 0.546     , 0.42704626],\n",
       "       [0.8       , 0.206     , 0.27758007],\n",
       "       [0.5       , 0.213     , 0.21708185],\n",
       "       [0.7       , 0.541     , 0.22419929],\n",
       "       [0.7       , 0.548     , 0.1886121 ],\n",
       "       [0.4       , 0.459     , 0.43060498],\n",
       "       [0.3       , 0.621     , 0.04982206],\n",
       "       [0.8       , 0.203     , 0.41637011],\n",
       "       [0.5       , 0.213     , 0.24199288],\n",
       "       [0.7       , 0.597     , 0.55516014],\n",
       "       [0.7       , 0.544     , 0.22775801],\n",
       "       [0.7       , 0.547     , 0.40569395],\n",
       "       [0.3       , 0.578     , 0.24911032]])"
      ]
     },
     "execution_count": 243,
     "metadata": {},
     "output_type": "execute_result"
    }
   ],
   "source": [
    "X = paperdf.iloc[train, 0:3]\n",
    "scaler.fit(X)\n",
    "X_scaled = scaler.fit_transform(X)\n",
    "X_scaled"
   ]
  },
  {
   "cell_type": "code",
   "execution_count": 244,
   "id": "59d40f06-f319-4f48-85df-4c36055a5f43",
   "metadata": {},
   "outputs": [
    {
     "data": {
      "text/html": [
       "<div>\n",
       "<style scoped>\n",
       "    .dataframe tbody tr th:only-of-type {\n",
       "        vertical-align: middle;\n",
       "    }\n",
       "\n",
       "    .dataframe tbody tr th {\n",
       "        vertical-align: top;\n",
       "    }\n",
       "\n",
       "    .dataframe thead th {\n",
       "        text-align: right;\n",
       "    }\n",
       "</style>\n",
       "<table border=\"1\" class=\"dataframe\">\n",
       "  <thead>\n",
       "    <tr style=\"text-align: right;\">\n",
       "      <th></th>\n",
       "      <th>0</th>\n",
       "      <th>1</th>\n",
       "      <th>2</th>\n",
       "    </tr>\n",
       "  </thead>\n",
       "  <tbody>\n",
       "    <tr>\n",
       "      <th>0</th>\n",
       "      <td>0.5</td>\n",
       "      <td>0.213</td>\n",
       "      <td>0.412811</td>\n",
       "    </tr>\n",
       "    <tr>\n",
       "      <th>1</th>\n",
       "      <td>0.0</td>\n",
       "      <td>1.000</td>\n",
       "      <td>0.384342</td>\n",
       "    </tr>\n",
       "    <tr>\n",
       "      <th>2</th>\n",
       "      <td>0.6</td>\n",
       "      <td>1.000</td>\n",
       "      <td>0.412811</td>\n",
       "    </tr>\n",
       "    <tr>\n",
       "      <th>3</th>\n",
       "      <td>0.5</td>\n",
       "      <td>0.404</td>\n",
       "      <td>0.416370</td>\n",
       "    </tr>\n",
       "    <tr>\n",
       "      <th>4</th>\n",
       "      <td>0.7</td>\n",
       "      <td>0.550</td>\n",
       "      <td>0.384342</td>\n",
       "    </tr>\n",
       "    <tr>\n",
       "      <th>...</th>\n",
       "      <td>...</td>\n",
       "      <td>...</td>\n",
       "      <td>...</td>\n",
       "    </tr>\n",
       "    <tr>\n",
       "      <th>214</th>\n",
       "      <td>0.5</td>\n",
       "      <td>0.213</td>\n",
       "      <td>0.241993</td>\n",
       "    </tr>\n",
       "    <tr>\n",
       "      <th>215</th>\n",
       "      <td>0.7</td>\n",
       "      <td>0.597</td>\n",
       "      <td>0.555160</td>\n",
       "    </tr>\n",
       "    <tr>\n",
       "      <th>216</th>\n",
       "      <td>0.7</td>\n",
       "      <td>0.544</td>\n",
       "      <td>0.227758</td>\n",
       "    </tr>\n",
       "    <tr>\n",
       "      <th>217</th>\n",
       "      <td>0.7</td>\n",
       "      <td>0.547</td>\n",
       "      <td>0.405694</td>\n",
       "    </tr>\n",
       "    <tr>\n",
       "      <th>218</th>\n",
       "      <td>0.3</td>\n",
       "      <td>0.578</td>\n",
       "      <td>0.249110</td>\n",
       "    </tr>\n",
       "  </tbody>\n",
       "</table>\n",
       "<p>219 rows × 3 columns</p>\n",
       "</div>"
      ],
      "text/plain": [
       "       0      1         2\n",
       "0    0.5  0.213  0.412811\n",
       "1    0.0  1.000  0.384342\n",
       "2    0.6  1.000  0.412811\n",
       "3    0.5  0.404  0.416370\n",
       "4    0.7  0.550  0.384342\n",
       "..   ...    ...       ...\n",
       "214  0.5  0.213  0.241993\n",
       "215  0.7  0.597  0.555160\n",
       "216  0.7  0.544  0.227758\n",
       "217  0.7  0.547  0.405694\n",
       "218  0.3  0.578  0.249110\n",
       "\n",
       "[219 rows x 3 columns]"
      ]
     },
     "execution_count": 244,
     "metadata": {},
     "output_type": "execute_result"
    }
   ],
   "source": [
    "X_scaled = pd.DataFrame(X_scaled)\n",
    "X_scaled"
   ]
  },
  {
   "cell_type": "code",
   "execution_count": 245,
   "id": "90a8d8cc-b745-4769-bb3e-efbbe4cd039d",
   "metadata": {},
   "outputs": [
    {
     "data": {
      "text/html": [
       "<div>\n",
       "<style scoped>\n",
       "    .dataframe tbody tr th:only-of-type {\n",
       "        vertical-align: middle;\n",
       "    }\n",
       "\n",
       "    .dataframe tbody tr th {\n",
       "        vertical-align: top;\n",
       "    }\n",
       "\n",
       "    .dataframe thead th {\n",
       "        text-align: right;\n",
       "    }\n",
       "</style>\n",
       "<table border=\"1\" class=\"dataframe\">\n",
       "  <thead>\n",
       "    <tr style=\"text-align: right;\">\n",
       "      <th></th>\n",
       "      <th>count</th>\n",
       "      <th>mean</th>\n",
       "      <th>std</th>\n",
       "      <th>min</th>\n",
       "      <th>25%</th>\n",
       "      <th>50%</th>\n",
       "      <th>75%</th>\n",
       "      <th>max</th>\n",
       "    </tr>\n",
       "  </thead>\n",
       "  <tbody>\n",
       "    <tr>\n",
       "      <th>Refine_D</th>\n",
       "      <td>219.0</td>\n",
       "      <td>0.585388</td>\n",
       "      <td>0.203335</td>\n",
       "      <td>0.0</td>\n",
       "      <td>0.400000</td>\n",
       "      <td>0.700000</td>\n",
       "      <td>0.700000</td>\n",
       "      <td>1.0</td>\n",
       "    </tr>\n",
       "    <tr>\n",
       "      <th>Mix_R</th>\n",
       "      <td>219.0</td>\n",
       "      <td>0.492680</td>\n",
       "      <td>0.210433</td>\n",
       "      <td>0.0</td>\n",
       "      <td>0.442000</td>\n",
       "      <td>0.549000</td>\n",
       "      <td>0.564000</td>\n",
       "      <td>1.0</td>\n",
       "    </tr>\n",
       "    <tr>\n",
       "      <th>Grammage</th>\n",
       "      <td>219.0</td>\n",
       "      <td>0.313606</td>\n",
       "      <td>0.191493</td>\n",
       "      <td>0.0</td>\n",
       "      <td>0.213523</td>\n",
       "      <td>0.377224</td>\n",
       "      <td>0.412811</td>\n",
       "      <td>1.0</td>\n",
       "    </tr>\n",
       "  </tbody>\n",
       "</table>\n",
       "</div>"
      ],
      "text/plain": [
       "          count      mean       std  min       25%       50%       75%  max\n",
       "Refine_D  219.0  0.585388  0.203335  0.0  0.400000  0.700000  0.700000  1.0\n",
       "Mix_R     219.0  0.492680  0.210433  0.0  0.442000  0.549000  0.564000  1.0\n",
       "Grammage  219.0  0.313606  0.191493  0.0  0.213523  0.377224  0.412811  1.0"
      ]
     },
     "execution_count": 245,
     "metadata": {},
     "output_type": "execute_result"
    }
   ],
   "source": [
    "X_scaled.columns = paperdf.columns[0:3]\n",
    "X_scaled.describe().T"
   ]
  },
  {
   "cell_type": "code",
   "execution_count": 248,
   "id": "a681ab06-e83d-41dd-aeb2-a270e718b0b5",
   "metadata": {},
   "outputs": [
    {
     "name": "stdout",
     "output_type": "stream",
     "text": [
      "[ 10.  100.   28.1]\n",
      "[ 40.  100.   95.5]\n",
      "[30.   0.  67.4]\n"
     ]
    }
   ],
   "source": [
    "# print the scaled data\n",
    "print(scaler.data_range_)\n",
    "print(scaler.data_max_)\n",
    "print(scaler.data_min_)"
   ]
  },
  {
   "cell_type": "code",
   "execution_count": 276,
   "id": "29d9a733-5295-4491-97ce-6b7941105991",
   "metadata": {},
   "outputs": [],
   "source": [
    "lin_model = LinearRegression()\n",
    "y = np.reshape(np.array(paperdf.loc[train, 'Tensile_MD']), (-1, 1))\n",
    "my_model3 = lin_model.fit(X_scaled, y)"
   ]
  },
  {
   "cell_type": "code",
   "execution_count": 277,
   "id": "d6e656f7-601f-4b41-9702-7f095c283bec",
   "metadata": {},
   "outputs": [
    {
     "name": "stdout",
     "output_type": "stream",
     "text": [
      "var\t coef\t\t\t range\t\t impact\n",
      "Refine_D \t 0.87168 \twith range  1.0 \ttotal impact 0.87\n",
      "Mix_R \t 16.08864 \twith range  1.0 \ttotal impact 16.09\n",
      "Grammage \t 15.7675 \twith range  1.0 \ttotal impact 15.77\n"
     ]
    }
   ],
   "source": [
    "print('var\\t coef\\t\\t\\t range\\t\\t impact')\n",
    "\n",
    "for coef, var in enumerate(paperdf.columns[0:3]):\n",
    "    print(var, '\\t', round(my_model3.coef_[0][coef], 5), '\\twith range ', round(float(X_scaled[var].max() - X_scaled[var].min()),2),\\\n",
    "          '\\ttotal impact', round(float(my_model3.coef_[0][coef]*(X_scaled[var].max() - X_scaled[var].min())),2))"
   ]
  },
  {
   "cell_type": "code",
   "execution_count": 278,
   "id": "b0dfbeba-fb9d-45a1-8049-440bbe0b8c52",
   "metadata": {},
   "outputs": [
    {
     "data": {
      "text/plain": [
       "0.8284979904123919"
      ]
     },
     "execution_count": 278,
     "metadata": {},
     "output_type": "execute_result"
    }
   ],
   "source": [
    "my_model3.score(X_scaled, y)"
   ]
  },
  {
   "cell_type": "code",
   "execution_count": null,
   "id": "4e2d3185-a8d2-45e9-865d-7611737d0b1b",
   "metadata": {},
   "outputs": [],
   "source": []
  },
  {
   "cell_type": "code",
   "execution_count": 279,
   "id": "749c0b31-cad6-433d-9204-2e0cfc4dcf83",
   "metadata": {},
   "outputs": [],
   "source": [
    "# 스케일링한 Tensile_CD"
   ]
  },
  {
   "cell_type": "code",
   "execution_count": 280,
   "id": "781eb326-f708-458a-bb35-b78f7510d3af",
   "metadata": {},
   "outputs": [],
   "source": [
    "lin_model = LinearRegression()\n",
    "y = np.reshape(np.array(paperdf.loc[train, 'Tensile_CD']), (-1, 1))\n",
    "my_model4 = lin_model.fit(X_scaled, y)"
   ]
  },
  {
   "cell_type": "code",
   "execution_count": 281,
   "id": "89b191e4-b9cb-4924-a820-cc4b394c8800",
   "metadata": {},
   "outputs": [
    {
     "name": "stdout",
     "output_type": "stream",
     "text": [
      "var\t coef\t\t\t range\t\t impact\n",
      "Refine_D \t -0.73131 \twith range  1.0 \ttotal impact -0.73\n",
      "Mix_R \t 5.91965 \twith range  1.0 \ttotal impact 5.92\n",
      "Grammage \t 9.45147 \twith range  1.0 \ttotal impact 9.45\n"
     ]
    }
   ],
   "source": [
    "print('var\\t coef\\t\\t\\t range\\t\\t impact')\n",
    "\n",
    "for coef, var in enumerate(paperdf.columns[0:3]):\n",
    "    print(var, '\\t', round(my_model4.coef_[0][coef], 5), '\\twith range ', round(float(X_scaled[var].max() - X_scaled[var].min()),2),\\\n",
    "          '\\ttotal impact', round(float(my_model4.coef_[0][coef]*(X_scaled[var].max() - X_scaled[var].min())),2))"
   ]
  },
  {
   "cell_type": "code",
   "execution_count": 282,
   "id": "0b5345be-6d48-4b05-a048-88a2ca9bd30e",
   "metadata": {
    "tags": []
   },
   "outputs": [
    {
     "data": {
      "text/plain": [
       "0.8288116789204527"
      ]
     },
     "execution_count": 282,
     "metadata": {},
     "output_type": "execute_result"
    }
   ],
   "source": [
    "my_model4.score(X_scaled, y)"
   ]
  },
  {
   "cell_type": "code",
   "execution_count": null,
   "id": "6aef7c4b-ec35-405e-b749-3f3971f73094",
   "metadata": {},
   "outputs": [],
   "source": []
  },
  {
   "cell_type": "code",
   "execution_count": null,
   "id": "6c65e941-9ac3-4984-846c-4a041affe093",
   "metadata": {},
   "outputs": [],
   "source": []
  },
  {
   "cell_type": "code",
   "execution_count": 283,
   "id": "b955e31b-e50a-4af3-ae64-e38c2929c57e",
   "metadata": {},
   "outputs": [],
   "source": [
    "# 스케일링한 Tear_MD"
   ]
  },
  {
   "cell_type": "code",
   "execution_count": 284,
   "id": "7023872d-2fd5-4626-86c7-cf1fe0d3e044",
   "metadata": {},
   "outputs": [],
   "source": [
    "lin_model = LinearRegression()\n",
    "y = np.reshape(np.array(paperdf.loc[train, 'Tear_MD']), (-1, 1))\n",
    "my_model4 = lin_model.fit(X_scaled, y)"
   ]
  },
  {
   "cell_type": "code",
   "execution_count": 285,
   "id": "47643b95-3afe-4cea-a71e-95d505de94a2",
   "metadata": {},
   "outputs": [
    {
     "name": "stdout",
     "output_type": "stream",
     "text": [
      "var\t coef\t\t\t range\t\t impact\n",
      "Refine_D \t -54.5186 \twith range  1.0 \ttotal impact -54.52\n",
      "Mix_R \t 171.09045 \twith range  1.0 \ttotal impact 171.09\n",
      "Grammage \t 227.07245 \twith range  1.0 \ttotal impact 227.07\n"
     ]
    }
   ],
   "source": [
    "print('var\\t coef\\t\\t\\t range\\t\\t impact')\n",
    "\n",
    "for coef, var in enumerate(paperdf.columns[0:3]):\n",
    "    print(var, '\\t', round(my_model4.coef_[0][coef], 5), '\\twith range ', round(float(X_scaled[var].max() - X_scaled[var].min()),2),\\\n",
    "          '\\ttotal impact', round(float(my_model4.coef_[0][coef]*(X_scaled[var].max() - X_scaled[var].min())),2))"
   ]
  },
  {
   "cell_type": "code",
   "execution_count": 286,
   "id": "0805f7b6-6035-4ed4-908d-f1cab1f9a509",
   "metadata": {
    "tags": []
   },
   "outputs": [
    {
     "data": {
      "text/plain": [
       "0.7378695826803805"
      ]
     },
     "execution_count": 286,
     "metadata": {},
     "output_type": "execute_result"
    }
   ],
   "source": [
    "my_model4.score(X_scaled, y)"
   ]
  },
  {
   "cell_type": "code",
   "execution_count": null,
   "id": "e14ed563-43fd-4df5-bcec-88b054648cd2",
   "metadata": {},
   "outputs": [],
   "source": []
  },
  {
   "cell_type": "code",
   "execution_count": null,
   "id": "9e15aff1-0d7f-41ad-9fdf-5f0ed6941ead",
   "metadata": {},
   "outputs": [],
   "source": []
  },
  {
   "cell_type": "code",
   "execution_count": 287,
   "id": "775cf18f-809d-4c83-b0f0-02d7524c9a29",
   "metadata": {},
   "outputs": [],
   "source": [
    "# 스케일링한 Tear_CD"
   ]
  },
  {
   "cell_type": "code",
   "execution_count": 288,
   "id": "59abe661-5f05-401b-9209-ad8cf342a082",
   "metadata": {},
   "outputs": [],
   "source": [
    "lin_model = LinearRegression()\n",
    "y = np.reshape(np.array(paperdf.loc[train, 'Tear_CD']), (-1, 1))\n",
    "my_model4 = lin_model.fit(X_scaled, y)"
   ]
  },
  {
   "cell_type": "code",
   "execution_count": 289,
   "id": "87aaeaec-721d-411e-8c6e-9b93ae86c857",
   "metadata": {},
   "outputs": [
    {
     "name": "stdout",
     "output_type": "stream",
     "text": [
      "var\t coef\t\t\t range\t\t impact\n",
      "Refine_D \t -22.22723 \twith range  1.0 \ttotal impact -22.23\n",
      "Mix_R \t 206.03667 \twith range  1.0 \ttotal impact 206.04\n",
      "Grammage \t 262.0256 \twith range  1.0 \ttotal impact 262.03\n"
     ]
    }
   ],
   "source": [
    "print('var\\t coef\\t\\t\\t range\\t\\t impact')\n",
    "\n",
    "for coef, var in enumerate(paperdf.columns[0:3]):\n",
    "    print(var, '\\t', round(my_model4.coef_[0][coef], 5), '\\twith range ', round(float(X_scaled[var].max() - X_scaled[var].min()),2),\\\n",
    "          '\\ttotal impact', round(float(my_model4.coef_[0][coef]*(X_scaled[var].max() - X_scaled[var].min())),2))"
   ]
  },
  {
   "cell_type": "code",
   "execution_count": 290,
   "id": "24b20973-405d-4f77-99c7-4c02ad2c41bb",
   "metadata": {
    "tags": []
   },
   "outputs": [
    {
     "data": {
      "text/plain": [
       "0.7555181959323353"
      ]
     },
     "execution_count": 290,
     "metadata": {},
     "output_type": "execute_result"
    }
   ],
   "source": [
    "my_model4.score(X_scaled, y)"
   ]
  },
  {
   "cell_type": "code",
   "execution_count": null,
   "id": "ab15b39b-57d3-46f5-843f-5d65746a293f",
   "metadata": {},
   "outputs": [],
   "source": []
  },
  {
   "cell_type": "code",
   "execution_count": null,
   "id": "7e1a98da-6316-459d-b6bc-a9352f9ea528",
   "metadata": {},
   "outputs": [],
   "source": []
  },
  {
   "cell_type": "code",
   "execution_count": null,
   "id": "c2835ca6-7fd6-4cdf-a037-0d592f62d270",
   "metadata": {},
   "outputs": [],
   "source": []
  },
  {
   "cell_type": "code",
   "execution_count": 227,
   "id": "af5089a2-7ea1-48c6-a050-94fc1b31f7bf",
   "metadata": {},
   "outputs": [
    {
     "data": {
      "text/html": [
       "<div>\n",
       "<style scoped>\n",
       "    .dataframe tbody tr th:only-of-type {\n",
       "        vertical-align: middle;\n",
       "    }\n",
       "\n",
       "    .dataframe tbody tr th {\n",
       "        vertical-align: top;\n",
       "    }\n",
       "\n",
       "    .dataframe thead th {\n",
       "        text-align: right;\n",
       "    }\n",
       "</style>\n",
       "<table border=\"1\" class=\"dataframe\">\n",
       "  <thead>\n",
       "    <tr style=\"text-align: right;\">\n",
       "      <th></th>\n",
       "      <th>Refine_D</th>\n",
       "      <th>Mix_R</th>\n",
       "      <th>Grammage</th>\n",
       "      <th>Tensile_MD</th>\n",
       "      <th>Tensile_CD</th>\n",
       "      <th>Tear_MD</th>\n",
       "      <th>Tear_CD</th>\n",
       "    </tr>\n",
       "  </thead>\n",
       "  <tbody>\n",
       "    <tr>\n",
       "      <th>0</th>\n",
       "      <td>38</td>\n",
       "      <td>20.0</td>\n",
       "      <td>69.0</td>\n",
       "      <td>41</td>\n",
       "      <td>20</td>\n",
       "      <td>513</td>\n",
       "      <td>587</td>\n",
       "    </tr>\n",
       "    <tr>\n",
       "      <th>1</th>\n",
       "      <td>38</td>\n",
       "      <td>20.0</td>\n",
       "      <td>68.8</td>\n",
       "      <td>38</td>\n",
       "      <td>20</td>\n",
       "      <td>467</td>\n",
       "      <td>513</td>\n",
       "    </tr>\n",
       "    <tr>\n",
       "      <th>2</th>\n",
       "      <td>38</td>\n",
       "      <td>20.0</td>\n",
       "      <td>68.1</td>\n",
       "      <td>37</td>\n",
       "      <td>18</td>\n",
       "      <td>467</td>\n",
       "      <td>540</td>\n",
       "    </tr>\n",
       "    <tr>\n",
       "      <th>3</th>\n",
       "      <td>38</td>\n",
       "      <td>20.0</td>\n",
       "      <td>68.7</td>\n",
       "      <td>37</td>\n",
       "      <td>19</td>\n",
       "      <td>500</td>\n",
       "      <td>580</td>\n",
       "    </tr>\n",
       "    <tr>\n",
       "      <th>4</th>\n",
       "      <td>38</td>\n",
       "      <td>20.0</td>\n",
       "      <td>68.2</td>\n",
       "      <td>38</td>\n",
       "      <td>19</td>\n",
       "      <td>487</td>\n",
       "      <td>567</td>\n",
       "    </tr>\n",
       "    <tr>\n",
       "      <th>...</th>\n",
       "      <td>...</td>\n",
       "      <td>...</td>\n",
       "      <td>...</td>\n",
       "      <td>...</td>\n",
       "      <td>...</td>\n",
       "      <td>...</td>\n",
       "      <td>...</td>\n",
       "    </tr>\n",
       "    <tr>\n",
       "      <th>309</th>\n",
       "      <td>35</td>\n",
       "      <td>21.3</td>\n",
       "      <td>79.6</td>\n",
       "      <td>41</td>\n",
       "      <td>21</td>\n",
       "      <td>520</td>\n",
       "      <td>613</td>\n",
       "    </tr>\n",
       "    <tr>\n",
       "      <th>310</th>\n",
       "      <td>35</td>\n",
       "      <td>21.3</td>\n",
       "      <td>74.2</td>\n",
       "      <td>38</td>\n",
       "      <td>19</td>\n",
       "      <td>453</td>\n",
       "      <td>507</td>\n",
       "    </tr>\n",
       "    <tr>\n",
       "      <th>311</th>\n",
       "      <td>35</td>\n",
       "      <td>21.3</td>\n",
       "      <td>73.7</td>\n",
       "      <td>38</td>\n",
       "      <td>19</td>\n",
       "      <td>453</td>\n",
       "      <td>500</td>\n",
       "    </tr>\n",
       "    <tr>\n",
       "      <th>312</th>\n",
       "      <td>35</td>\n",
       "      <td>21.3</td>\n",
       "      <td>73.5</td>\n",
       "      <td>39</td>\n",
       "      <td>20</td>\n",
       "      <td>460</td>\n",
       "      <td>547</td>\n",
       "    </tr>\n",
       "    <tr>\n",
       "      <th>313</th>\n",
       "      <td>35</td>\n",
       "      <td>21.3</td>\n",
       "      <td>73.5</td>\n",
       "      <td>40</td>\n",
       "      <td>20</td>\n",
       "      <td>487</td>\n",
       "      <td>540</td>\n",
       "    </tr>\n",
       "  </tbody>\n",
       "</table>\n",
       "<p>314 rows × 7 columns</p>\n",
       "</div>"
      ],
      "text/plain": [
       "     Refine_D  Mix_R  Grammage  Tensile_MD  Tensile_CD  Tear_MD  Tear_CD\n",
       "0          38   20.0      69.0          41          20      513      587\n",
       "1          38   20.0      68.8          38          20      467      513\n",
       "2          38   20.0      68.1          37          18      467      540\n",
       "3          38   20.0      68.7          37          19      500      580\n",
       "4          38   20.0      68.2          38          19      487      567\n",
       "..        ...    ...       ...         ...         ...      ...      ...\n",
       "309        35   21.3      79.6          41          21      520      613\n",
       "310        35   21.3      74.2          38          19      453      507\n",
       "311        35   21.3      73.7          38          19      453      500\n",
       "312        35   21.3      73.5          39          20      460      547\n",
       "313        35   21.3      73.5          40          20      487      540\n",
       "\n",
       "[314 rows x 7 columns]"
      ]
     },
     "execution_count": 227,
     "metadata": {},
     "output_type": "execute_result"
    }
   ],
   "source": [
    "distributions = pd.read_excel(\"my_data.xlsx\", usecols = [3,5,7,9,10,11,12], header=1)\n",
    "distributions"
   ]
  },
  {
   "cell_type": "code",
   "execution_count": 228,
   "id": "82ec6ebf-f4a7-455c-bf77-dbcb389afec8",
   "metadata": {},
   "outputs": [
    {
     "ename": "NameError",
     "evalue": "name 'col_num' is not defined",
     "output_type": "error",
     "traceback": [
      "\u001b[1;31m---------------------------------------------------------------------------\u001b[0m",
      "\u001b[1;31mNameError\u001b[0m                                 Traceback (most recent call last)",
      "Input \u001b[1;32mIn [228]\u001b[0m, in \u001b[0;36m<cell line: 3>\u001b[1;34m()\u001b[0m\n\u001b[0;32m      1\u001b[0m \u001b[38;5;66;03m# Visualize three distributions that have the same mean but different standard deviations\u001b[39;00m\n\u001b[0;32m      2\u001b[0m co_num \u001b[38;5;241m=\u001b[39m distributions\u001b[38;5;241m.\u001b[39mcolumns\n\u001b[1;32m----> 3\u001b[0m fig, ax \u001b[38;5;241m=\u001b[39m plt\u001b[38;5;241m.\u001b[39msubplots(\u001b[38;5;241m1\u001b[39m, \u001b[43mcol_num\u001b[49m , figsize \u001b[38;5;241m=\u001b[39m (\u001b[38;5;241m15\u001b[39m, \u001b[38;5;241m3\u001b[39m), sharey \u001b[38;5;241m=\u001b[39m \u001b[38;5;28;01mTrue\u001b[39;00m)\n\u001b[0;32m      4\u001b[0m \u001b[38;5;28;01mfor\u001b[39;00m i, _ \u001b[38;5;129;01min\u001b[39;00m \u001b[38;5;28menumerate\u001b[39m(co_num):\n\u001b[0;32m      5\u001b[0m      ax[i]\u001b[38;5;241m.\u001b[39mhist(distributions\u001b[38;5;241m.\u001b[39miloc[:, i], bins \u001b[38;5;241m=\u001b[39m \u001b[38;5;241m50\u001b[39m)\n",
      "\u001b[1;31mNameError\u001b[0m: name 'col_num' is not defined"
     ]
    }
   ],
   "source": [
    "# Visualize three distributions that have the same mean but different standard deviations\n",
    "co_num = distributions.columns\n",
    "fig, ax = plt.subplots(1, col_num , figsize = (15, 3), sharey = True)\n",
    "for i, _ in enumerate(co_num):\n",
    "     ax[i].hist(distributions.iloc[:, i], bins = 50)\n",
    "     ax[i].set_title('variable ' + str(i))\n",
    "     ax[0].set_ylabel('count')\n",
    "plt.show()"
   ]
  },
  {
   "cell_type": "code",
   "execution_count": 229,
   "id": "07eded54-3f00-40c0-b468-68bc2887490b",
   "metadata": {},
   "outputs": [
    {
     "data": {
      "text/html": [
       "<div>\n",
       "<style scoped>\n",
       "    .dataframe tbody tr th:only-of-type {\n",
       "        vertical-align: middle;\n",
       "    }\n",
       "\n",
       "    .dataframe tbody tr th {\n",
       "        vertical-align: top;\n",
       "    }\n",
       "\n",
       "    .dataframe thead th {\n",
       "        text-align: right;\n",
       "    }\n",
       "</style>\n",
       "<table border=\"1\" class=\"dataframe\">\n",
       "  <thead>\n",
       "    <tr style=\"text-align: right;\">\n",
       "      <th></th>\n",
       "      <th>0</th>\n",
       "      <th>1</th>\n",
       "      <th>2</th>\n",
       "      <th>3</th>\n",
       "      <th>4</th>\n",
       "      <th>5</th>\n",
       "      <th>6</th>\n",
       "    </tr>\n",
       "  </thead>\n",
       "  <tbody>\n",
       "    <tr>\n",
       "      <th>0</th>\n",
       "      <td>0.996979</td>\n",
       "      <td>-1.242993</td>\n",
       "      <td>-1.309014</td>\n",
       "      <td>-1.023364</td>\n",
       "      <td>-0.974013</td>\n",
       "      <td>-1.087333</td>\n",
       "      <td>-1.030691</td>\n",
       "    </tr>\n",
       "    <tr>\n",
       "      <th>1</th>\n",
       "      <td>0.996979</td>\n",
       "      <td>-1.242993</td>\n",
       "      <td>-1.345361</td>\n",
       "      <td>-1.539429</td>\n",
       "      <td>-0.974013</td>\n",
       "      <td>-1.659876</td>\n",
       "      <td>-1.858779</td>\n",
       "    </tr>\n",
       "    <tr>\n",
       "      <th>2</th>\n",
       "      <td>0.996979</td>\n",
       "      <td>-1.242993</td>\n",
       "      <td>-1.472575</td>\n",
       "      <td>-1.711450</td>\n",
       "      <td>-1.665958</td>\n",
       "      <td>-1.659876</td>\n",
       "      <td>-1.556639</td>\n",
       "    </tr>\n",
       "    <tr>\n",
       "      <th>3</th>\n",
       "      <td>0.996979</td>\n",
       "      <td>-1.242993</td>\n",
       "      <td>-1.363534</td>\n",
       "      <td>-1.711450</td>\n",
       "      <td>-1.319985</td>\n",
       "      <td>-1.249139</td>\n",
       "      <td>-1.109024</td>\n",
       "    </tr>\n",
       "    <tr>\n",
       "      <th>4</th>\n",
       "      <td>0.996979</td>\n",
       "      <td>-1.242993</td>\n",
       "      <td>-1.454402</td>\n",
       "      <td>-1.539429</td>\n",
       "      <td>-1.319985</td>\n",
       "      <td>-1.410944</td>\n",
       "      <td>-1.254499</td>\n",
       "    </tr>\n",
       "    <tr>\n",
       "      <th>...</th>\n",
       "      <td>...</td>\n",
       "      <td>...</td>\n",
       "      <td>...</td>\n",
       "      <td>...</td>\n",
       "      <td>...</td>\n",
       "      <td>...</td>\n",
       "      <td>...</td>\n",
       "    </tr>\n",
       "    <tr>\n",
       "      <th>309</th>\n",
       "      <td>-0.484337</td>\n",
       "      <td>-1.185052</td>\n",
       "      <td>0.617378</td>\n",
       "      <td>-1.023364</td>\n",
       "      <td>-0.628040</td>\n",
       "      <td>-1.000207</td>\n",
       "      <td>-0.739741</td>\n",
       "    </tr>\n",
       "    <tr>\n",
       "      <th>310</th>\n",
       "      <td>-0.484337</td>\n",
       "      <td>-1.185052</td>\n",
       "      <td>-0.363991</td>\n",
       "      <td>-1.539429</td>\n",
       "      <td>-1.319985</td>\n",
       "      <td>-1.834129</td>\n",
       "      <td>-1.925922</td>\n",
       "    </tr>\n",
       "    <tr>\n",
       "      <th>311</th>\n",
       "      <td>-0.484337</td>\n",
       "      <td>-1.185052</td>\n",
       "      <td>-0.454859</td>\n",
       "      <td>-1.539429</td>\n",
       "      <td>-1.319985</td>\n",
       "      <td>-1.834129</td>\n",
       "      <td>-2.004254</td>\n",
       "    </tr>\n",
       "    <tr>\n",
       "      <th>312</th>\n",
       "      <td>-0.484337</td>\n",
       "      <td>-1.185052</td>\n",
       "      <td>-0.491206</td>\n",
       "      <td>-1.367407</td>\n",
       "      <td>-0.974013</td>\n",
       "      <td>-1.747002</td>\n",
       "      <td>-1.478306</td>\n",
       "    </tr>\n",
       "    <tr>\n",
       "      <th>313</th>\n",
       "      <td>-0.484337</td>\n",
       "      <td>-1.185052</td>\n",
       "      <td>-0.491206</td>\n",
       "      <td>-1.195386</td>\n",
       "      <td>-0.974013</td>\n",
       "      <td>-1.410944</td>\n",
       "      <td>-1.556639</td>\n",
       "    </tr>\n",
       "  </tbody>\n",
       "</table>\n",
       "<p>314 rows × 7 columns</p>\n",
       "</div>"
      ],
      "text/plain": [
       "            0         1         2         3         4         5         6\n",
       "0    0.996979 -1.242993 -1.309014 -1.023364 -0.974013 -1.087333 -1.030691\n",
       "1    0.996979 -1.242993 -1.345361 -1.539429 -0.974013 -1.659876 -1.858779\n",
       "2    0.996979 -1.242993 -1.472575 -1.711450 -1.665958 -1.659876 -1.556639\n",
       "3    0.996979 -1.242993 -1.363534 -1.711450 -1.319985 -1.249139 -1.109024\n",
       "4    0.996979 -1.242993 -1.454402 -1.539429 -1.319985 -1.410944 -1.254499\n",
       "..        ...       ...       ...       ...       ...       ...       ...\n",
       "309 -0.484337 -1.185052  0.617378 -1.023364 -0.628040 -1.000207 -0.739741\n",
       "310 -0.484337 -1.185052 -0.363991 -1.539429 -1.319985 -1.834129 -1.925922\n",
       "311 -0.484337 -1.185052 -0.454859 -1.539429 -1.319985 -1.834129 -2.004254\n",
       "312 -0.484337 -1.185052 -0.491206 -1.367407 -0.974013 -1.747002 -1.478306\n",
       "313 -0.484337 -1.185052 -0.491206 -1.195386 -0.974013 -1.410944 -1.556639\n",
       "\n",
       "[314 rows x 7 columns]"
      ]
     },
     "execution_count": 229,
     "metadata": {},
     "output_type": "execute_result"
    }
   ],
   "source": [
    "# Visualize three distributions with StandardScaler()\n",
    "from sklearn.preprocessing import StandardScaler\n",
    "\n",
    "scaler = StandardScaler()\n",
    "colnames = distributions.columns\n",
    "distributions = pd.DataFrame(scaler.fit_transform(distributions))\n",
    "distributions"
   ]
  },
  {
   "cell_type": "code",
   "execution_count": 236,
   "id": "7a762edf-c0ea-43e1-a055-985818d703fe",
   "metadata": {},
   "outputs": [
    {
     "data": {
      "image/png": "[encoded data removed]",
      "text/plain": [
       "<Figure size 1440x432 with 7 Axes>"
      ]
     },
     "metadata": {
      "needs_background": "light"
     },
     "output_type": "display_data"
    }
   ],
   "source": [
    "distributions.columns = colnames\n",
    "fig, ax = plt.subplots(1, distributions.shape[1], figsize = (20, 6), sharey = True)\n",
    "for i, _ in enumerate(distributions.columns):\n",
    "    _ = ax[i].hist(distributions.iloc[:, i], bins = 50)\n",
    "    _ = ax[i].set_title('variable ' + str(i))\n",
    "    _ = ax[0].set_ylabel('count')\n",
    "plt.show()"
   ]
  },
  {
   "cell_type": "code",
   "execution_count": 231,
   "id": "d8a8944d-eb2a-4f96-b5ca-5893422821ce",
   "metadata": {},
   "outputs": [],
   "source": [
    "# auto-mpg.data.csv의 StandardScaler() 적용\n",
    "paperdf = pd.read_excel(\"my_data.xlsx\", usecols = [3,5,7,9,10,11,12], header=1)\n",
    "X_train = paperdf.iloc[train, :].drop(columns = ['Tensile_MD', 'Tensile_CD', 'Tear_MD', 'Tear_CD'])\n",
    "y = np.reshape(np.array(paperdf.loc[train, 'Tensile_MD']), (-1, 1))"
   ]
  },
  {
   "cell_type": "code",
   "execution_count": 232,
   "id": "ab266b5a-423d-401c-b57c-04a7cc1d652b",
   "metadata": {},
   "outputs": [
    {
     "data": {
      "text/html": [
       "<div>\n",
       "<style scoped>\n",
       "    .dataframe tbody tr th:only-of-type {\n",
       "        vertical-align: middle;\n",
       "    }\n",
       "\n",
       "    .dataframe tbody tr th {\n",
       "        vertical-align: top;\n",
       "    }\n",
       "\n",
       "    .dataframe thead th {\n",
       "        text-align: right;\n",
       "    }\n",
       "</style>\n",
       "<table border=\"1\" class=\"dataframe\">\n",
       "  <thead>\n",
       "    <tr style=\"text-align: right;\">\n",
       "      <th></th>\n",
       "      <th>count</th>\n",
       "      <th>mean</th>\n",
       "      <th>std</th>\n",
       "      <th>min</th>\n",
       "      <th>25%</th>\n",
       "      <th>50%</th>\n",
       "      <th>75%</th>\n",
       "      <th>max</th>\n",
       "    </tr>\n",
       "  </thead>\n",
       "  <tbody>\n",
       "    <tr>\n",
       "      <th>Refine_D</th>\n",
       "      <td>219.0</td>\n",
       "      <td>-8.455945e-16</td>\n",
       "      <td>1.002291</td>\n",
       "      <td>-2.885529</td>\n",
       "      <td>-0.913826</td>\n",
       "      <td>0.564951</td>\n",
       "      <td>0.564951</td>\n",
       "      <td>2.043729</td>\n",
       "    </tr>\n",
       "    <tr>\n",
       "      <th>Mix_R</th>\n",
       "      <td>219.0</td>\n",
       "      <td>3.391503e-16</td>\n",
       "      <td>1.002291</td>\n",
       "      <td>-2.346632</td>\n",
       "      <td>-0.241390</td>\n",
       "      <td>0.268250</td>\n",
       "      <td>0.339695</td>\n",
       "      <td>2.416359</td>\n",
       "    </tr>\n",
       "    <tr>\n",
       "      <th>Grammage</th>\n",
       "      <td>219.0</td>\n",
       "      <td>3.813540e-15</td>\n",
       "      <td>1.002291</td>\n",
       "      <td>-1.641441</td>\n",
       "      <td>-0.523842</td>\n",
       "      <td>0.332983</td>\n",
       "      <td>0.519250</td>\n",
       "      <td>3.592645</td>\n",
       "    </tr>\n",
       "  </tbody>\n",
       "</table>\n",
       "</div>"
      ],
      "text/plain": [
       "          count          mean       std       min       25%       50%  \\\n",
       "Refine_D  219.0 -8.455945e-16  1.002291 -2.885529 -0.913826  0.564951   \n",
       "Mix_R     219.0  3.391503e-16  1.002291 -2.346632 -0.241390  0.268250   \n",
       "Grammage  219.0  3.813540e-15  1.002291 -1.641441 -0.523842  0.332983   \n",
       "\n",
       "               75%       max  \n",
       "Refine_D  0.564951  2.043729  \n",
       "Mix_R     0.339695  2.416359  \n",
       "Grammage  0.519250  3.592645  "
      ]
     },
     "execution_count": 232,
     "metadata": {},
     "output_type": "execute_result"
    }
   ],
   "source": [
    "scaler = StandardScaler()\n",
    "scaler.fit(X_train)\n",
    "X_scaled = scaler.fit_transform(X_train)\n",
    "X_scaled = pd.DataFrame(X_scaled)\n",
    "X_scaled.columns = paperdf.columns[0:3]\n",
    "X_scaled.describe().T"
   ]
  },
  {
   "cell_type": "code",
   "execution_count": 233,
   "id": "f7bd4a84-86e9-461f-8654-928bf042794a",
   "metadata": {},
   "outputs": [
    {
     "name": "stdout",
     "output_type": "stream",
     "text": [
      "R2 score is  0.8284979904123919\n",
      "model coefficients:\n",
      " [[0.17683809 3.37784353 3.01246403]] \n",
      "intercept:  [47.01369863]\n",
      "the root mean square error is  2.3101712238739647\n"
     ]
    }
   ],
   "source": [
    "lin_model = LinearRegression()\n",
    "my_model4 = lin_model.fit(X_scaled, y)\n",
    "print('R2 score is ', my_model4.score(X_scaled, y))\n",
    "print('model coefficients:\\n', my_model4.coef_, '\\nintercept: ', my_model4.intercept_)\n",
    "RMSE = mean_squared_error(y, my_model4.predict(X_scaled), squared = False)\n",
    "print('the root mean square error is ', RMSE)"
   ]
  },
  {
   "cell_type": "code",
   "execution_count": null,
   "id": "a25ada1c-fd72-4ab9-ba84-0aa92771ad9c",
   "metadata": {},
   "outputs": [],
   "source": []
  },
  {
   "cell_type": "code",
   "execution_count": null,
   "id": "61ea06c8-45dc-4ed3-a2c5-e99aa4bfa791",
   "metadata": {},
   "outputs": [],
   "source": []
  }
 ],
 "metadata": {
  "kernelspec": {
   "display_name": "Python 3 (ipykernel)",
   "language": "python",
   "name": "python3"
  },
  "language_info": {
   "codemirror_mode": {
    "name": "ipython",
    "version": 3
   },
   "file_extension": ".py",
   "mimetype": "text/x-python",
   "name": "python",
   "nbconvert_exporter": "python",
   "pygments_lexer": "ipython3",
   "version": "3.9.12"
  }
 },
 "nbformat": 4,
 "nbformat_minor": 5
}
